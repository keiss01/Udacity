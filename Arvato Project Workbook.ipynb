{
 "cells": [
  {
   "cell_type": "markdown",
   "metadata": {},
   "source": [
    "# Capstone Project: Create a Customer Segmentation Report for Arvato Financial Services\n",
    "\n",
    "In this project, you will analyze demographics data for customers of a mail-order sales company in Germany, comparing it against demographics information for the general population. You'll use unsupervised learning techniques to perform customer segmentation, identifying the parts of the population that best describe the core customer base of the company. Then, you'll apply what you've learned on a third dataset with demographics information for targets of a marketing campaign for the company, and use a model to predict which individuals are most likely to convert into becoming customers for the company. The data that you will use has been provided by our partners at Bertelsmann Arvato Analytics, and represents a real-life data science task.\n",
    "\n",
    "If you completed the first term of this program, you will be familiar with the first part of this project, from the unsupervised learning project. The versions of those two datasets used in this project will include many more features and has not been pre-cleaned. You are also free to choose whatever approach you'd like to analyzing the data rather than follow pre-determined steps. In your work on this project, make sure that you carefully document your steps and decisions, since your main deliverable for this project will be a blog post reporting your findings."
   ]
  },
  {
   "cell_type": "code",
   "execution_count": 1,
   "metadata": {},
   "outputs": [],
   "source": [
    "# import libraries here; add more as necessary\n",
    "import numpy as np\n",
    "import pandas as pd\n",
    "import matplotlib.pyplot as plt\n",
    "import seaborn as sns\n",
    "\n",
    "# magic word for producing visualizations in notebook\n",
    "%matplotlib inline"
   ]
  },
  {
   "cell_type": "markdown",
   "metadata": {},
   "source": [
    "## Part 0: Get to Know the Data\n",
    "\n",
    "There are four data files associated with this project:\n",
    "\n",
    "- `Udacity_AZDIAS_052018.csv`: Demographics data for the general population of Germany; 891 211 persons (rows) x 366 features (columns).\n",
    "- `Udacity_CUSTOMERS_052018.csv`: Demographics data for customers of a mail-order company; 191 652 persons (rows) x 369 features (columns).\n",
    "- `Udacity_MAILOUT_052018_TRAIN.csv`: Demographics data for individuals who were targets of a marketing campaign; 42 982 persons (rows) x 367 (columns).\n",
    "- `Udacity_MAILOUT_052018_TEST.csv`: Demographics data for individuals who were targets of a marketing campaign; 42 833 persons (rows) x 366 (columns).\n",
    "\n",
    "Each row of the demographics files represents a single person, but also includes information outside of individuals, including information about their household, building, and neighborhood. Use the information from the first two files to figure out how customers (\"CUSTOMERS\") are similar to or differ from the general population at large (\"AZDIAS\"), then use your analysis to make predictions on the other two files (\"MAILOUT\"), predicting which recipients are most likely to become a customer for the mail-order company.\n",
    "\n",
    "The \"CUSTOMERS\" file contains three extra columns ('CUSTOMER_GROUP', 'ONLINE_PURCHASE', and 'PRODUCT_GROUP'), which provide broad information about the customers depicted in the file. The original \"MAILOUT\" file included one additional column, \"RESPONSE\", which indicated whether or not each recipient became a customer of the company. For the \"TRAIN\" subset, this column has been retained, but in the \"TEST\" subset it has been removed; it is against that withheld column that your final predictions will be assessed in the Kaggle competition.\n",
    "\n",
    "Otherwise, all of the remaining columns are the same between the three data files. For more information about the columns depicted in the files, you can refer to two Excel spreadsheets provided in the workspace. [One of them](./DIAS Information Levels - Attributes 2017.xlsx) is a top-level list of attributes and descriptions, organized by informational category. [The other](./DIAS Attributes - Values 2017.xlsx) is a detailed mapping of data values for each feature in alphabetical order.\n",
    "\n",
    "In the below cell, we've provided some initial code to load in the first two datasets. Note for all of the `.csv` data files in this project that they're semicolon (`;`) delimited, so an additional argument in the [`read_csv()`](https://pandas.pydata.org/pandas-docs/stable/generated/pandas.read_csv.html) call has been included to read in the data properly. Also, considering the size of the datasets, it may take some time for them to load completely.\n",
    "\n",
    "You'll notice when the data is loaded in that a warning message will immediately pop up. Before you really start digging into the modeling and analysis, you're going to need to perform some cleaning. Take some time to browse the structure of the data and look over the informational spreadsheets to understand the data values. Make some decisions on which features to keep, which features to drop, and if any revisions need to be made on data formats. It'll be a good idea to create a function with pre-processing steps, since you'll need to clean all of the datasets before you work with them."
   ]
  },
  {
   "cell_type": "code",
   "execution_count": 2,
   "metadata": {},
   "outputs": [
    {
     "name": "stderr",
     "output_type": "stream",
     "text": [
      "/opt/conda/lib/python3.6/site-packages/IPython/core/interactiveshell.py:2785: DtypeWarning: Columns (18,19) have mixed types. Specify dtype option on import or set low_memory=False.\n",
      "  interactivity=interactivity, compiler=compiler, result=result)\n"
     ]
    }
   ],
   "source": [
    "# load in the data\n",
    "azdias = pd.read_csv('../../data/Term2/capstone/arvato_data/Udacity_AZDIAS_052018.csv', sep=';')\n",
    "customers = pd.read_csv('../../data/Term2/capstone/arvato_data/Udacity_CUSTOMERS_052018.csv', sep=';')"
   ]
  },
  {
   "cell_type": "code",
   "execution_count": 3,
   "metadata": {},
   "outputs": [],
   "source": [
    "# Be sure to add in a lot more cells (both markdown and code) to document your\n",
    "# approach and findings!"
   ]
  },
  {
   "cell_type": "code",
   "execution_count": 4,
   "metadata": {},
   "outputs": [
    {
     "data": {
      "text/html": [
       "<div>\n",
       "<style scoped>\n",
       "    .dataframe tbody tr th:only-of-type {\n",
       "        vertical-align: middle;\n",
       "    }\n",
       "\n",
       "    .dataframe tbody tr th {\n",
       "        vertical-align: top;\n",
       "    }\n",
       "\n",
       "    .dataframe thead th {\n",
       "        text-align: right;\n",
       "    }\n",
       "</style>\n",
       "<table border=\"1\" class=\"dataframe\">\n",
       "  <thead>\n",
       "    <tr style=\"text-align: right;\">\n",
       "      <th></th>\n",
       "      <th>LNR</th>\n",
       "      <th>AGER_TYP</th>\n",
       "      <th>AKT_DAT_KL</th>\n",
       "      <th>ALTER_HH</th>\n",
       "      <th>ALTER_KIND1</th>\n",
       "      <th>ALTER_KIND2</th>\n",
       "      <th>ALTER_KIND3</th>\n",
       "      <th>ALTER_KIND4</th>\n",
       "      <th>ALTERSKATEGORIE_FEIN</th>\n",
       "      <th>ANZ_HAUSHALTE_AKTIV</th>\n",
       "      <th>...</th>\n",
       "      <th>VHN</th>\n",
       "      <th>VK_DHT4A</th>\n",
       "      <th>VK_DISTANZ</th>\n",
       "      <th>VK_ZG11</th>\n",
       "      <th>W_KEIT_KIND_HH</th>\n",
       "      <th>WOHNDAUER_2008</th>\n",
       "      <th>WOHNLAGE</th>\n",
       "      <th>ZABEOTYP</th>\n",
       "      <th>ANREDE_KZ</th>\n",
       "      <th>ALTERSKATEGORIE_GROB</th>\n",
       "    </tr>\n",
       "  </thead>\n",
       "  <tbody>\n",
       "    <tr>\n",
       "      <th>0</th>\n",
       "      <td>910215</td>\n",
       "      <td>-1</td>\n",
       "      <td>NaN</td>\n",
       "      <td>NaN</td>\n",
       "      <td>NaN</td>\n",
       "      <td>NaN</td>\n",
       "      <td>NaN</td>\n",
       "      <td>NaN</td>\n",
       "      <td>NaN</td>\n",
       "      <td>NaN</td>\n",
       "      <td>...</td>\n",
       "      <td>NaN</td>\n",
       "      <td>NaN</td>\n",
       "      <td>NaN</td>\n",
       "      <td>NaN</td>\n",
       "      <td>NaN</td>\n",
       "      <td>NaN</td>\n",
       "      <td>NaN</td>\n",
       "      <td>3</td>\n",
       "      <td>1</td>\n",
       "      <td>2</td>\n",
       "    </tr>\n",
       "    <tr>\n",
       "      <th>1</th>\n",
       "      <td>910220</td>\n",
       "      <td>-1</td>\n",
       "      <td>9.0</td>\n",
       "      <td>0.0</td>\n",
       "      <td>NaN</td>\n",
       "      <td>NaN</td>\n",
       "      <td>NaN</td>\n",
       "      <td>NaN</td>\n",
       "      <td>21.0</td>\n",
       "      <td>11.0</td>\n",
       "      <td>...</td>\n",
       "      <td>4.0</td>\n",
       "      <td>8.0</td>\n",
       "      <td>11.0</td>\n",
       "      <td>10.0</td>\n",
       "      <td>3.0</td>\n",
       "      <td>9.0</td>\n",
       "      <td>4.0</td>\n",
       "      <td>5</td>\n",
       "      <td>2</td>\n",
       "      <td>1</td>\n",
       "    </tr>\n",
       "    <tr>\n",
       "      <th>2</th>\n",
       "      <td>910225</td>\n",
       "      <td>-1</td>\n",
       "      <td>9.0</td>\n",
       "      <td>17.0</td>\n",
       "      <td>NaN</td>\n",
       "      <td>NaN</td>\n",
       "      <td>NaN</td>\n",
       "      <td>NaN</td>\n",
       "      <td>17.0</td>\n",
       "      <td>10.0</td>\n",
       "      <td>...</td>\n",
       "      <td>2.0</td>\n",
       "      <td>9.0</td>\n",
       "      <td>9.0</td>\n",
       "      <td>6.0</td>\n",
       "      <td>3.0</td>\n",
       "      <td>9.0</td>\n",
       "      <td>2.0</td>\n",
       "      <td>5</td>\n",
       "      <td>2</td>\n",
       "      <td>3</td>\n",
       "    </tr>\n",
       "    <tr>\n",
       "      <th>3</th>\n",
       "      <td>910226</td>\n",
       "      <td>2</td>\n",
       "      <td>1.0</td>\n",
       "      <td>13.0</td>\n",
       "      <td>NaN</td>\n",
       "      <td>NaN</td>\n",
       "      <td>NaN</td>\n",
       "      <td>NaN</td>\n",
       "      <td>13.0</td>\n",
       "      <td>1.0</td>\n",
       "      <td>...</td>\n",
       "      <td>0.0</td>\n",
       "      <td>7.0</td>\n",
       "      <td>10.0</td>\n",
       "      <td>11.0</td>\n",
       "      <td>NaN</td>\n",
       "      <td>9.0</td>\n",
       "      <td>7.0</td>\n",
       "      <td>3</td>\n",
       "      <td>2</td>\n",
       "      <td>4</td>\n",
       "    </tr>\n",
       "    <tr>\n",
       "      <th>4</th>\n",
       "      <td>910241</td>\n",
       "      <td>-1</td>\n",
       "      <td>1.0</td>\n",
       "      <td>20.0</td>\n",
       "      <td>NaN</td>\n",
       "      <td>NaN</td>\n",
       "      <td>NaN</td>\n",
       "      <td>NaN</td>\n",
       "      <td>14.0</td>\n",
       "      <td>3.0</td>\n",
       "      <td>...</td>\n",
       "      <td>2.0</td>\n",
       "      <td>3.0</td>\n",
       "      <td>5.0</td>\n",
       "      <td>4.0</td>\n",
       "      <td>2.0</td>\n",
       "      <td>9.0</td>\n",
       "      <td>3.0</td>\n",
       "      <td>4</td>\n",
       "      <td>1</td>\n",
       "      <td>3</td>\n",
       "    </tr>\n",
       "  </tbody>\n",
       "</table>\n",
       "<p>5 rows × 366 columns</p>\n",
       "</div>"
      ],
      "text/plain": [
       "      LNR  AGER_TYP  AKT_DAT_KL  ALTER_HH  ALTER_KIND1  ALTER_KIND2  \\\n",
       "0  910215        -1         NaN       NaN          NaN          NaN   \n",
       "1  910220        -1         9.0       0.0          NaN          NaN   \n",
       "2  910225        -1         9.0      17.0          NaN          NaN   \n",
       "3  910226         2         1.0      13.0          NaN          NaN   \n",
       "4  910241        -1         1.0      20.0          NaN          NaN   \n",
       "\n",
       "   ALTER_KIND3  ALTER_KIND4  ALTERSKATEGORIE_FEIN  ANZ_HAUSHALTE_AKTIV  \\\n",
       "0          NaN          NaN                   NaN                  NaN   \n",
       "1          NaN          NaN                  21.0                 11.0   \n",
       "2          NaN          NaN                  17.0                 10.0   \n",
       "3          NaN          NaN                  13.0                  1.0   \n",
       "4          NaN          NaN                  14.0                  3.0   \n",
       "\n",
       "          ...           VHN  VK_DHT4A  VK_DISTANZ  VK_ZG11  W_KEIT_KIND_HH  \\\n",
       "0         ...           NaN       NaN         NaN      NaN             NaN   \n",
       "1         ...           4.0       8.0        11.0     10.0             3.0   \n",
       "2         ...           2.0       9.0         9.0      6.0             3.0   \n",
       "3         ...           0.0       7.0        10.0     11.0             NaN   \n",
       "4         ...           2.0       3.0         5.0      4.0             2.0   \n",
       "\n",
       "   WOHNDAUER_2008  WOHNLAGE ZABEOTYP ANREDE_KZ ALTERSKATEGORIE_GROB  \n",
       "0             NaN       NaN        3         1                    2  \n",
       "1             9.0       4.0        5         2                    1  \n",
       "2             9.0       2.0        5         2                    3  \n",
       "3             9.0       7.0        3         2                    4  \n",
       "4             9.0       3.0        4         1                    3  \n",
       "\n",
       "[5 rows x 366 columns]"
      ]
     },
     "execution_count": 4,
     "metadata": {},
     "output_type": "execute_result"
    }
   ],
   "source": [
    "azdias.head()"
   ]
  },
  {
   "cell_type": "code",
   "execution_count": 5,
   "metadata": {},
   "outputs": [
    {
     "data": {
      "text/html": [
       "<div>\n",
       "<style scoped>\n",
       "    .dataframe tbody tr th:only-of-type {\n",
       "        vertical-align: middle;\n",
       "    }\n",
       "\n",
       "    .dataframe tbody tr th {\n",
       "        vertical-align: top;\n",
       "    }\n",
       "\n",
       "    .dataframe thead th {\n",
       "        text-align: right;\n",
       "    }\n",
       "</style>\n",
       "<table border=\"1\" class=\"dataframe\">\n",
       "  <thead>\n",
       "    <tr style=\"text-align: right;\">\n",
       "      <th></th>\n",
       "      <th>LNR</th>\n",
       "      <th>AGER_TYP</th>\n",
       "      <th>AKT_DAT_KL</th>\n",
       "      <th>ALTER_HH</th>\n",
       "      <th>ALTER_KIND1</th>\n",
       "      <th>ALTER_KIND2</th>\n",
       "      <th>ALTER_KIND3</th>\n",
       "      <th>ALTER_KIND4</th>\n",
       "      <th>ALTERSKATEGORIE_FEIN</th>\n",
       "      <th>ANZ_HAUSHALTE_AKTIV</th>\n",
       "      <th>...</th>\n",
       "      <th>VK_ZG11</th>\n",
       "      <th>W_KEIT_KIND_HH</th>\n",
       "      <th>WOHNDAUER_2008</th>\n",
       "      <th>WOHNLAGE</th>\n",
       "      <th>ZABEOTYP</th>\n",
       "      <th>PRODUCT_GROUP</th>\n",
       "      <th>CUSTOMER_GROUP</th>\n",
       "      <th>ONLINE_PURCHASE</th>\n",
       "      <th>ANREDE_KZ</th>\n",
       "      <th>ALTERSKATEGORIE_GROB</th>\n",
       "    </tr>\n",
       "  </thead>\n",
       "  <tbody>\n",
       "    <tr>\n",
       "      <th>0</th>\n",
       "      <td>9626</td>\n",
       "      <td>2</td>\n",
       "      <td>1.0</td>\n",
       "      <td>10.0</td>\n",
       "      <td>NaN</td>\n",
       "      <td>NaN</td>\n",
       "      <td>NaN</td>\n",
       "      <td>NaN</td>\n",
       "      <td>10.0</td>\n",
       "      <td>1.0</td>\n",
       "      <td>...</td>\n",
       "      <td>2.0</td>\n",
       "      <td>6.0</td>\n",
       "      <td>9.0</td>\n",
       "      <td>7.0</td>\n",
       "      <td>3</td>\n",
       "      <td>COSMETIC_AND_FOOD</td>\n",
       "      <td>MULTI_BUYER</td>\n",
       "      <td>0</td>\n",
       "      <td>1</td>\n",
       "      <td>4</td>\n",
       "    </tr>\n",
       "    <tr>\n",
       "      <th>1</th>\n",
       "      <td>9628</td>\n",
       "      <td>-1</td>\n",
       "      <td>9.0</td>\n",
       "      <td>11.0</td>\n",
       "      <td>NaN</td>\n",
       "      <td>NaN</td>\n",
       "      <td>NaN</td>\n",
       "      <td>NaN</td>\n",
       "      <td>NaN</td>\n",
       "      <td>NaN</td>\n",
       "      <td>...</td>\n",
       "      <td>3.0</td>\n",
       "      <td>0.0</td>\n",
       "      <td>9.0</td>\n",
       "      <td>NaN</td>\n",
       "      <td>3</td>\n",
       "      <td>FOOD</td>\n",
       "      <td>SINGLE_BUYER</td>\n",
       "      <td>0</td>\n",
       "      <td>1</td>\n",
       "      <td>4</td>\n",
       "    </tr>\n",
       "    <tr>\n",
       "      <th>2</th>\n",
       "      <td>143872</td>\n",
       "      <td>-1</td>\n",
       "      <td>1.0</td>\n",
       "      <td>6.0</td>\n",
       "      <td>NaN</td>\n",
       "      <td>NaN</td>\n",
       "      <td>NaN</td>\n",
       "      <td>NaN</td>\n",
       "      <td>0.0</td>\n",
       "      <td>1.0</td>\n",
       "      <td>...</td>\n",
       "      <td>11.0</td>\n",
       "      <td>6.0</td>\n",
       "      <td>9.0</td>\n",
       "      <td>2.0</td>\n",
       "      <td>3</td>\n",
       "      <td>COSMETIC_AND_FOOD</td>\n",
       "      <td>MULTI_BUYER</td>\n",
       "      <td>0</td>\n",
       "      <td>2</td>\n",
       "      <td>4</td>\n",
       "    </tr>\n",
       "    <tr>\n",
       "      <th>3</th>\n",
       "      <td>143873</td>\n",
       "      <td>1</td>\n",
       "      <td>1.0</td>\n",
       "      <td>8.0</td>\n",
       "      <td>NaN</td>\n",
       "      <td>NaN</td>\n",
       "      <td>NaN</td>\n",
       "      <td>NaN</td>\n",
       "      <td>8.0</td>\n",
       "      <td>0.0</td>\n",
       "      <td>...</td>\n",
       "      <td>2.0</td>\n",
       "      <td>NaN</td>\n",
       "      <td>9.0</td>\n",
       "      <td>7.0</td>\n",
       "      <td>1</td>\n",
       "      <td>COSMETIC</td>\n",
       "      <td>MULTI_BUYER</td>\n",
       "      <td>0</td>\n",
       "      <td>1</td>\n",
       "      <td>4</td>\n",
       "    </tr>\n",
       "    <tr>\n",
       "      <th>4</th>\n",
       "      <td>143874</td>\n",
       "      <td>-1</td>\n",
       "      <td>1.0</td>\n",
       "      <td>20.0</td>\n",
       "      <td>NaN</td>\n",
       "      <td>NaN</td>\n",
       "      <td>NaN</td>\n",
       "      <td>NaN</td>\n",
       "      <td>14.0</td>\n",
       "      <td>7.0</td>\n",
       "      <td>...</td>\n",
       "      <td>4.0</td>\n",
       "      <td>2.0</td>\n",
       "      <td>9.0</td>\n",
       "      <td>3.0</td>\n",
       "      <td>1</td>\n",
       "      <td>FOOD</td>\n",
       "      <td>MULTI_BUYER</td>\n",
       "      <td>0</td>\n",
       "      <td>1</td>\n",
       "      <td>3</td>\n",
       "    </tr>\n",
       "  </tbody>\n",
       "</table>\n",
       "<p>5 rows × 369 columns</p>\n",
       "</div>"
      ],
      "text/plain": [
       "      LNR  AGER_TYP  AKT_DAT_KL  ALTER_HH  ALTER_KIND1  ALTER_KIND2  \\\n",
       "0    9626         2         1.0      10.0          NaN          NaN   \n",
       "1    9628        -1         9.0      11.0          NaN          NaN   \n",
       "2  143872        -1         1.0       6.0          NaN          NaN   \n",
       "3  143873         1         1.0       8.0          NaN          NaN   \n",
       "4  143874        -1         1.0      20.0          NaN          NaN   \n",
       "\n",
       "   ALTER_KIND3  ALTER_KIND4  ALTERSKATEGORIE_FEIN  ANZ_HAUSHALTE_AKTIV  \\\n",
       "0          NaN          NaN                  10.0                  1.0   \n",
       "1          NaN          NaN                   NaN                  NaN   \n",
       "2          NaN          NaN                   0.0                  1.0   \n",
       "3          NaN          NaN                   8.0                  0.0   \n",
       "4          NaN          NaN                  14.0                  7.0   \n",
       "\n",
       "          ...           VK_ZG11  W_KEIT_KIND_HH  WOHNDAUER_2008  WOHNLAGE  \\\n",
       "0         ...               2.0             6.0             9.0       7.0   \n",
       "1         ...               3.0             0.0             9.0       NaN   \n",
       "2         ...              11.0             6.0             9.0       2.0   \n",
       "3         ...               2.0             NaN             9.0       7.0   \n",
       "4         ...               4.0             2.0             9.0       3.0   \n",
       "\n",
       "   ZABEOTYP      PRODUCT_GROUP  CUSTOMER_GROUP ONLINE_PURCHASE ANREDE_KZ  \\\n",
       "0         3  COSMETIC_AND_FOOD     MULTI_BUYER               0         1   \n",
       "1         3               FOOD    SINGLE_BUYER               0         1   \n",
       "2         3  COSMETIC_AND_FOOD     MULTI_BUYER               0         2   \n",
       "3         1           COSMETIC     MULTI_BUYER               0         1   \n",
       "4         1               FOOD     MULTI_BUYER               0         1   \n",
       "\n",
       "  ALTERSKATEGORIE_GROB  \n",
       "0                    4  \n",
       "1                    4  \n",
       "2                    4  \n",
       "3                    4  \n",
       "4                    3  \n",
       "\n",
       "[5 rows x 369 columns]"
      ]
     },
     "execution_count": 5,
     "metadata": {},
     "output_type": "execute_result"
    }
   ],
   "source": [
    "customers.head()"
   ]
  },
  {
   "cell_type": "markdown",
   "metadata": {},
   "source": [
    "**Cleaning**\n",
    "\n",
    "Handle the 'DtypeWarning: Columns (18,19) have mixed types' warning -<br>\n",
    "saving all values in the columns as string and removing the '.0'."
   ]
  },
  {
   "cell_type": "code",
   "execution_count": 6,
   "metadata": {},
   "outputs": [
    {
     "data": {
      "text/plain": [
       "Index(['CAMEO_DEUG_2015', 'CAMEO_INTL_2015'], dtype='object')"
      ]
     },
     "execution_count": 6,
     "metadata": {},
     "output_type": "execute_result"
    }
   ],
   "source": [
    "azdias.columns[18:20]"
   ]
  },
  {
   "cell_type": "code",
   "execution_count": 7,
   "metadata": {},
   "outputs": [
    {
     "name": "stdout",
     "output_type": "stream",
     "text": [
      "[nan 8.0 4.0 2.0 6.0 1.0 9.0 5.0 7.0 3.0 '4' '3' '7' '2' '8' '9' '6' '5'\n",
      " '1' 'X']\n",
      "[nan 51.0 24.0 12.0 43.0 54.0 22.0 14.0 13.0 15.0 33.0 41.0 34.0 55.0 25.0\n",
      " 23.0 31.0 52.0 35.0 45.0 44.0 32.0 '22' '24' '41' '12' '54' '51' '44' '35'\n",
      " '23' '25' '14' '34' '52' '55' '31' '32' '15' '13' '43' '33' '45' 'XX']\n"
     ]
    }
   ],
   "source": [
    "print(azdias['CAMEO_DEUG_2015'].unique())\n",
    "print(azdias['CAMEO_INTL_2015'].unique())"
   ]
  },
  {
   "cell_type": "code",
   "execution_count": 8,
   "metadata": {},
   "outputs": [],
   "source": [
    "def clean_df(df, cols):\n",
    "    for col in cols:\n",
    "        df[col] = df[col].str.replace('.0', '')\n",
    "        df[col].unique()\n",
    "    return df    \n",
    "\n",
    "cols = ['CAMEO_INTL_2015', 'CAMEO_INTL_2015']\n",
    "\n",
    "azdias_clean = clean_df(azdias, cols)        \n",
    "customers_clean = clean_df(customers, cols)        "
   ]
  },
  {
   "cell_type": "code",
   "execution_count": 9,
   "metadata": {},
   "outputs": [
    {
     "name": "stdout",
     "output_type": "stream",
     "text": [
      "[nan '22' '24' '41' '12' '54' '51' '44' '35' '23' '25' '14' '34' '52' '55'\n",
      " '31' '32' '15' '13' '43' '33' '45' 'XX']\n",
      "[nan '45' '25' '55' '51' '14' '54' '43' '22' '15' '24' '35' '23' '12' '44'\n",
      " '41' '52' '31' '13' '34' '32' '33' 'XX']\n"
     ]
    }
   ],
   "source": [
    "# check\n",
    "print(azdias_clean['CAMEO_INTL_2015'].unique())\n",
    "print(customers_clean['CAMEO_INTL_2015'].unique())"
   ]
  },
  {
   "cell_type": "markdown",
   "metadata": {},
   "source": [
    "**Save cleaned dataset**"
   ]
  },
  {
   "cell_type": "code",
   "execution_count": 10,
   "metadata": {},
   "outputs": [],
   "source": [
    "azdias_clean.to_csv('azdias_clean.csv')\n",
    "customers_clean.to_csv('customers_clean.csv')"
   ]
  },
  {
   "cell_type": "markdown",
   "metadata": {},
   "source": [
    "**Identify columns with more data**"
   ]
  },
  {
   "cell_type": "code",
   "execution_count": 11,
   "metadata": {},
   "outputs": [
    {
     "name": "stdout",
     "output_type": "stream",
     "text": [
      "LNR 0.0\n",
      "AKT_DAT_KL 0.243128169808\n",
      "CJT_GESAMTTYP 0.0167647611295\n",
      "CJT_KATALOGNUTZER 0.0167647611295\n",
      "CJT_TYP_1 0.0167647611295\n",
      "CJT_TYP_2 0.0167647611295\n",
      "CJT_TYP_3 0.0167647611295\n",
      "CJT_TYP_4 0.0167647611295\n",
      "CJT_TYP_5 0.0167647611295\n",
      "CJT_TYP_6 0.0167647611295\n",
      "D19_BANKEN_DATUM 0.0\n",
      "D19_BANKEN_OFFLINE_DATUM 0.0\n",
      "D19_BANKEN_ONLINE_DATUM 0.0\n",
      "D19_GESAMT_DATUM 0.0\n",
      "D19_GESAMT_OFFLINE_DATUM 0.0\n",
      "D19_GESAMT_ONLINE_DATUM 0.0\n",
      "D19_KONSUMTYP 0.248872957235\n",
      "D19_KONSUMTYP_MAX 0.0\n",
      "D19_LETZTER_KAUF_BRANCHE 0.248872957235\n",
      "D19_TELKO_DATUM 0.0\n",
      "D19_TELKO_OFFLINE_DATUM 0.0\n",
      "D19_TELKO_ONLINE_DATUM 0.0\n",
      "D19_VERSAND_DATUM 0.0\n",
      "D19_VERSAND_OFFLINE_DATUM 0.0\n",
      "D19_VERSAND_ONLINE_DATUM 0.0\n",
      "D19_VERSI_DATUM 0.0\n",
      "D19_VERSI_OFFLINE_DATUM 0.0\n",
      "D19_VERSI_ONLINE_DATUM 0.0\n",
      "EINGEZOGENAM_HH_JAHR 0.243128169808\n",
      "FINANZ_ANLEGER 0.0\n",
      "FINANZ_HAUSBAUER 0.0\n",
      "FINANZ_MINIMALIST 0.0\n",
      "FINANZ_SPARER 0.0\n",
      "FINANZ_UNAUFFAELLIGER 0.0\n",
      "FINANZ_VORSORGER 0.0\n",
      "FINANZTYP 0.0\n",
      "GFK_URLAUBERTYP 0.0167647611295\n",
      "HH_EINKOMMEN_SCORE 0.0154864024378\n",
      "KOMBIALTER 0.0\n",
      "KONSUMNAEHE 0.24341514829\n",
      "LP_STATUS_FEIN 0.0167647611295\n",
      "LP_STATUS_GROB 0.0167647611295\n",
      "ONLINE_AFFINITAET 0.0382098804082\n",
      "RETOURTYP_BK_S 0.0167647611295\n",
      "RT_KEIN_ANREIZ 0.0167647611295\n",
      "RT_SCHNAEPPCHEN 0.0167647611295\n",
      "RT_UEBERGROESSE 0.240514056728\n",
      "SEMIO_DOM 0.0\n",
      "SEMIO_ERL 0.0\n",
      "SEMIO_FAM 0.0\n",
      "SEMIO_KAEM 0.0\n",
      "SEMIO_KRIT 0.0\n",
      "SEMIO_KULT 0.0\n",
      "SEMIO_LUST 0.0\n",
      "SEMIO_MAT 0.0\n",
      "SEMIO_PFLICHT 0.0\n",
      "SEMIO_RAT 0.0\n",
      "SEMIO_REL 0.0\n",
      "SEMIO_SOZ 0.0\n",
      "SEMIO_TRADV 0.0\n",
      "SEMIO_VERT 0.0\n",
      "VK_DHT4A 0.249780852796\n",
      "VK_DISTANZ 0.249780852796\n",
      "VK_ZG11 0.249780852796\n",
      "WOHNDAUER_2008 0.243128169808\n",
      "ZABEOTYP 0.0\n",
      "PRODUCT_GROUP 0.0\n",
      "CUSTOMER_GROUP 0.0\n",
      "ANREDE_KZ 0.0\n",
      "ALTERSKATEGORIE_GROB 0.0\n"
     ]
    }
   ],
   "source": [
    "def miss_share(df, pct=101):\n",
    "    for col in df.columns:\n",
    "        miss_share = df[df[col]==0][col].count()/df.shape[0] + \\\n",
    "                     df[df[col]==-1][col].count()/df.shape[0] + \\\n",
    "                     df[col].isna().sum()/df.shape[0]    \n",
    "        if miss_share*100 < pct:\n",
    "            print(col, miss_share)\n",
    "    return   \n",
    "\n",
    "miss_share(customers_clean, 25)    "
   ]
  },
  {
   "cell_type": "markdown",
   "metadata": {},
   "source": [
    "**Selected Features:**\n",
    "\n",
    "ALTERSKATEGORIE_GROB - age classification through prename analysis<br> \n",
    "ANREDE_KZ - gender<br>\n",
    "EWDICHTE - density of inhabitants per square kilometer<br>\n",
    "INNENSTADT - distance to the city centre<br>\n",
    "LP_STATUS_GROB\t- social status rough"
   ]
  },
  {
   "cell_type": "code",
   "execution_count": 12,
   "metadata": {},
   "outputs": [],
   "source": [
    "feat_cols = ['ALTERSKATEGORIE_GROB','ANREDE_KZ', 'EWDICHTE', 'INNENSTADT', 'LP_STATUS_GROB']"
   ]
  },
  {
   "cell_type": "code",
   "execution_count": 13,
   "metadata": {},
   "outputs": [],
   "source": [
    "azdias_clean_sub = azdias_clean[feat_cols]\n",
    "customers_clean_sub = customers_clean[feat_cols]"
   ]
  },
  {
   "cell_type": "code",
   "execution_count": 14,
   "metadata": {},
   "outputs": [
    {
     "name": "stdout",
     "output_type": "stream",
     "text": [
      "<class 'pandas.core.frame.DataFrame'>\n",
      "RangeIndex: 891221 entries, 0 to 891220\n",
      "Data columns (total 5 columns):\n",
      "ALTERSKATEGORIE_GROB    891221 non-null int64\n",
      "ANREDE_KZ               891221 non-null int64\n",
      "EWDICHTE                797481 non-null float64\n",
      "INNENSTADT              797481 non-null float64\n",
      "LP_STATUS_GROB          886367 non-null float64\n",
      "dtypes: float64(3), int64(2)\n",
      "memory usage: 34.0 MB\n"
     ]
    }
   ],
   "source": [
    "azdias_clean_sub.info()"
   ]
  },
  {
   "cell_type": "code",
   "execution_count": 15,
   "metadata": {},
   "outputs": [
    {
     "name": "stdout",
     "output_type": "stream",
     "text": [
      "<class 'pandas.core.frame.DataFrame'>\n",
      "RangeIndex: 191652 entries, 0 to 191651\n",
      "Data columns (total 5 columns):\n",
      "ALTERSKATEGORIE_GROB    191652 non-null int64\n",
      "ANREDE_KZ               191652 non-null int64\n",
      "EWDICHTE                141693 non-null float64\n",
      "INNENSTADT              141693 non-null float64\n",
      "LP_STATUS_GROB          188439 non-null float64\n",
      "dtypes: float64(3), int64(2)\n",
      "memory usage: 7.3 MB\n"
     ]
    }
   ],
   "source": [
    "customers_clean_sub.info()"
   ]
  },
  {
   "cell_type": "code",
   "execution_count": 16,
   "metadata": {},
   "outputs": [
    {
     "data": {
      "text/html": [
       "<div>\n",
       "<style scoped>\n",
       "    .dataframe tbody tr th:only-of-type {\n",
       "        vertical-align: middle;\n",
       "    }\n",
       "\n",
       "    .dataframe tbody tr th {\n",
       "        vertical-align: top;\n",
       "    }\n",
       "\n",
       "    .dataframe thead th {\n",
       "        text-align: right;\n",
       "    }\n",
       "</style>\n",
       "<table border=\"1\" class=\"dataframe\">\n",
       "  <thead>\n",
       "    <tr style=\"text-align: right;\">\n",
       "      <th></th>\n",
       "      <th>ALTERSKATEGORIE_GROB</th>\n",
       "      <th>ANREDE_KZ</th>\n",
       "      <th>EWDICHTE</th>\n",
       "      <th>INNENSTADT</th>\n",
       "      <th>LP_STATUS_GROB</th>\n",
       "    </tr>\n",
       "  </thead>\n",
       "  <tbody>\n",
       "    <tr>\n",
       "      <th>0</th>\n",
       "      <td>2</td>\n",
       "      <td>1</td>\n",
       "      <td>NaN</td>\n",
       "      <td>NaN</td>\n",
       "      <td>1.0</td>\n",
       "    </tr>\n",
       "    <tr>\n",
       "      <th>1</th>\n",
       "      <td>1</td>\n",
       "      <td>2</td>\n",
       "      <td>3.0</td>\n",
       "      <td>8.0</td>\n",
       "      <td>1.0</td>\n",
       "    </tr>\n",
       "    <tr>\n",
       "      <th>2</th>\n",
       "      <td>3</td>\n",
       "      <td>2</td>\n",
       "      <td>4.0</td>\n",
       "      <td>4.0</td>\n",
       "      <td>2.0</td>\n",
       "    </tr>\n",
       "    <tr>\n",
       "      <th>3</th>\n",
       "      <td>4</td>\n",
       "      <td>2</td>\n",
       "      <td>2.0</td>\n",
       "      <td>6.0</td>\n",
       "      <td>4.0</td>\n",
       "    </tr>\n",
       "    <tr>\n",
       "      <th>4</th>\n",
       "      <td>3</td>\n",
       "      <td>1</td>\n",
       "      <td>5.0</td>\n",
       "      <td>1.0</td>\n",
       "      <td>2.0</td>\n",
       "    </tr>\n",
       "  </tbody>\n",
       "</table>\n",
       "</div>"
      ],
      "text/plain": [
       "   ALTERSKATEGORIE_GROB  ANREDE_KZ  EWDICHTE  INNENSTADT  LP_STATUS_GROB\n",
       "0                     2          1       NaN         NaN             1.0\n",
       "1                     1          2       3.0         8.0             1.0\n",
       "2                     3          2       4.0         4.0             2.0\n",
       "3                     4          2       2.0         6.0             4.0\n",
       "4                     3          1       5.0         1.0             2.0"
      ]
     },
     "execution_count": 16,
     "metadata": {},
     "output_type": "execute_result"
    }
   ],
   "source": [
    "azdias_clean_sub.head()"
   ]
  },
  {
   "cell_type": "code",
   "execution_count": 17,
   "metadata": {},
   "outputs": [
    {
     "name": "stderr",
     "output_type": "stream",
     "text": [
      "/opt/conda/lib/python3.6/site-packages/pandas/core/frame.py:3140: SettingWithCopyWarning: \n",
      "A value is trying to be set on a copy of a slice from a DataFrame.\n",
      "Try using .loc[row_indexer,col_indexer] = value instead\n",
      "\n",
      "See the caveats in the documentation: http://pandas.pydata.org/pandas-docs/stable/indexing.html#indexing-view-versus-copy\n",
      "  self[k1] = value[k2]\n"
     ]
    }
   ],
   "source": [
    "azdias_clean_sub[feat_cols] = azdias_clean_sub[feat_cols].astype('str')\n",
    "customers_clean_sub[feat_cols] = customers_clean_sub[feat_cols].astype('str')"
   ]
  },
  {
   "cell_type": "code",
   "execution_count": 18,
   "metadata": {},
   "outputs": [
    {
     "name": "stdout",
     "output_type": "stream",
     "text": [
      "<class 'pandas.core.frame.DataFrame'>\n",
      "RangeIndex: 891221 entries, 0 to 891220\n",
      "Data columns (total 5 columns):\n",
      "ALTERSKATEGORIE_GROB    891221 non-null object\n",
      "ANREDE_KZ               891221 non-null object\n",
      "EWDICHTE                891221 non-null object\n",
      "INNENSTADT              891221 non-null object\n",
      "LP_STATUS_GROB          891221 non-null object\n",
      "dtypes: object(5)\n",
      "memory usage: 34.0+ MB\n"
     ]
    }
   ],
   "source": [
    "azdias_clean_sub.info()"
   ]
  },
  {
   "cell_type": "code",
   "execution_count": 19,
   "metadata": {},
   "outputs": [
    {
     "name": "stdout",
     "output_type": "stream",
     "text": [
      "<class 'pandas.core.frame.DataFrame'>\n",
      "RangeIndex: 191652 entries, 0 to 191651\n",
      "Data columns (total 5 columns):\n",
      "ALTERSKATEGORIE_GROB    191652 non-null object\n",
      "ANREDE_KZ               191652 non-null object\n",
      "EWDICHTE                191652 non-null object\n",
      "INNENSTADT              191652 non-null object\n",
      "LP_STATUS_GROB          191652 non-null object\n",
      "dtypes: object(5)\n",
      "memory usage: 7.3+ MB\n"
     ]
    }
   ],
   "source": [
    "customers_clean_sub.info()"
   ]
  },
  {
   "cell_type": "code",
   "execution_count": 20,
   "metadata": {},
   "outputs": [
    {
     "name": "stderr",
     "output_type": "stream",
     "text": [
      "/opt/conda/lib/python3.6/site-packages/ipykernel_launcher.py:3: SettingWithCopyWarning: \n",
      "A value is trying to be set on a copy of a slice from a DataFrame.\n",
      "Try using .loc[row_indexer,col_indexer] = value instead\n",
      "\n",
      "See the caveats in the documentation: http://pandas.pydata.org/pandas-docs/stable/indexing.html#indexing-view-versus-copy\n",
      "  This is separate from the ipykernel package so we can avoid doing imports until\n"
     ]
    }
   ],
   "source": [
    "azdias_clean_sub = clean_df(azdias_clean_sub, feat_cols)        \n",
    "customers_clean_sub = clean_df(customers_clean_sub, feat_cols)  "
   ]
  },
  {
   "cell_type": "code",
   "execution_count": 21,
   "metadata": {
    "scrolled": true
   },
   "outputs": [
    {
     "name": "stdout",
     "output_type": "stream",
     "text": [
      "ALTERSKATEGORIE_GROB ['1' '2' '3' '4' '9']\n",
      "ANREDE_KZ ['1' '2']\n",
      "EWDICHTE ['1' '2' '3' '4' '5' '6' 'nan']\n",
      "INNENSTADT ['1' '2' '3' '4' '5' '6' '7' '8' 'nan']\n",
      "LP_STATUS_GROB ['1' '2' '3' '4' '5' 'nan']\n"
     ]
    }
   ],
   "source": [
    "for col in feat_cols:\n",
    "    print(col, np.sort(azdias_clean_sub[col].unique()))"
   ]
  },
  {
   "cell_type": "code",
   "execution_count": 22,
   "metadata": {},
   "outputs": [
    {
     "name": "stdout",
     "output_type": "stream",
     "text": [
      "ALTERSKATEGORIE_GROB ['1' '2' '3' '4' '9']\n",
      "ANREDE_KZ ['1' '2']\n",
      "EWDICHTE ['1' '2' '3' '4' '5' '6' 'nan']\n",
      "INNENSTADT ['1' '2' '3' '4' '5' '6' '7' '8' 'nan']\n",
      "LP_STATUS_GROB ['1' '2' '3' '4' '5' 'nan']\n"
     ]
    }
   ],
   "source": [
    "for col in feat_cols:\n",
    "    print(col, np.sort(customers_clean_sub[col].unique()))"
   ]
  },
  {
   "cell_type": "code",
   "execution_count": 23,
   "metadata": {},
   "outputs": [
    {
     "name": "stdout",
     "output_type": "stream",
     "text": [
      "ALTERSKATEGORIE_GROB ['1' '2' '3' '4' '9']\n",
      "ANREDE_KZ ['1' '2']\n",
      "EWDICHTE ['1' '2' '3' '4' '5' '6' 'nan']\n",
      "INNENSTADT ['1' '2' '3' '4' '5' '6' '7' '8' 'nan']\n",
      "LP_STATUS_GROB ['1' '2' '3' '4' '5' 'nan']\n"
     ]
    }
   ],
   "source": [
    "for col in feat_cols:\n",
    "    print(col, np.sort(customers_clean_sub[col].unique()))"
   ]
  },
  {
   "cell_type": "code",
   "execution_count": 24,
   "metadata": {},
   "outputs": [
    {
     "name": "stderr",
     "output_type": "stream",
     "text": [
      "/opt/conda/lib/python3.6/site-packages/ipykernel_launcher.py:3: SettingWithCopyWarning: \n",
      "A value is trying to be set on a copy of a slice from a DataFrame.\n",
      "Try using .loc[row_indexer,col_indexer] = value instead\n",
      "\n",
      "See the caveats in the documentation: http://pandas.pydata.org/pandas-docs/stable/indexing.html#indexing-view-versus-copy\n",
      "  This is separate from the ipykernel package so we can avoid doing imports until\n"
     ]
    }
   ],
   "source": [
    "def repl_nan(df):\n",
    "    for col in df.columns:\n",
    "        df[col] = df[col].replace('nan', '0')\n",
    "    return df    \n",
    "\n",
    "azdias_clean_sub = repl_nan(azdias_clean_sub)\n",
    "customers_clean_sub = repl_nan(customers_clean_sub)"
   ]
  },
  {
   "cell_type": "code",
   "execution_count": 25,
   "metadata": {},
   "outputs": [
    {
     "data": {
      "text/html": [
       "<div>\n",
       "<style scoped>\n",
       "    .dataframe tbody tr th:only-of-type {\n",
       "        vertical-align: middle;\n",
       "    }\n",
       "\n",
       "    .dataframe tbody tr th {\n",
       "        vertical-align: top;\n",
       "    }\n",
       "\n",
       "    .dataframe thead th {\n",
       "        text-align: right;\n",
       "    }\n",
       "</style>\n",
       "<table border=\"1\" class=\"dataframe\">\n",
       "  <thead>\n",
       "    <tr style=\"text-align: right;\">\n",
       "      <th></th>\n",
       "      <th>ALTERSKATEGORIE_GROB</th>\n",
       "      <th>ANREDE_KZ</th>\n",
       "      <th>EWDICHTE</th>\n",
       "      <th>INNENSTADT</th>\n",
       "      <th>LP_STATUS_GROB</th>\n",
       "    </tr>\n",
       "  </thead>\n",
       "  <tbody>\n",
       "    <tr>\n",
       "      <th>0</th>\n",
       "      <td>2</td>\n",
       "      <td>1</td>\n",
       "      <td>0</td>\n",
       "      <td>0</td>\n",
       "      <td>1</td>\n",
       "    </tr>\n",
       "    <tr>\n",
       "      <th>1</th>\n",
       "      <td>1</td>\n",
       "      <td>2</td>\n",
       "      <td>3</td>\n",
       "      <td>8</td>\n",
       "      <td>1</td>\n",
       "    </tr>\n",
       "    <tr>\n",
       "      <th>2</th>\n",
       "      <td>3</td>\n",
       "      <td>2</td>\n",
       "      <td>4</td>\n",
       "      <td>4</td>\n",
       "      <td>2</td>\n",
       "    </tr>\n",
       "    <tr>\n",
       "      <th>3</th>\n",
       "      <td>4</td>\n",
       "      <td>2</td>\n",
       "      <td>2</td>\n",
       "      <td>6</td>\n",
       "      <td>4</td>\n",
       "    </tr>\n",
       "    <tr>\n",
       "      <th>4</th>\n",
       "      <td>3</td>\n",
       "      <td>1</td>\n",
       "      <td>5</td>\n",
       "      <td>1</td>\n",
       "      <td>2</td>\n",
       "    </tr>\n",
       "  </tbody>\n",
       "</table>\n",
       "</div>"
      ],
      "text/plain": [
       "  ALTERSKATEGORIE_GROB ANREDE_KZ EWDICHTE INNENSTADT LP_STATUS_GROB\n",
       "0                    2         1        0          0              1\n",
       "1                    1         2        3          8              1\n",
       "2                    3         2        4          4              2\n",
       "3                    4         2        2          6              4\n",
       "4                    3         1        5          1              2"
      ]
     },
     "execution_count": 25,
     "metadata": {},
     "output_type": "execute_result"
    }
   ],
   "source": [
    "azdias_clean_sub.head()"
   ]
  },
  {
   "cell_type": "code",
   "execution_count": 26,
   "metadata": {},
   "outputs": [
    {
     "data": {
      "text/html": [
       "<div>\n",
       "<style scoped>\n",
       "    .dataframe tbody tr th:only-of-type {\n",
       "        vertical-align: middle;\n",
       "    }\n",
       "\n",
       "    .dataframe tbody tr th {\n",
       "        vertical-align: top;\n",
       "    }\n",
       "\n",
       "    .dataframe thead th {\n",
       "        text-align: right;\n",
       "    }\n",
       "</style>\n",
       "<table border=\"1\" class=\"dataframe\">\n",
       "  <thead>\n",
       "    <tr style=\"text-align: right;\">\n",
       "      <th></th>\n",
       "      <th>ALTERSKATEGORIE_GROB</th>\n",
       "      <th>ANREDE_KZ</th>\n",
       "      <th>EWDICHTE</th>\n",
       "      <th>INNENSTADT</th>\n",
       "      <th>LP_STATUS_GROB</th>\n",
       "    </tr>\n",
       "  </thead>\n",
       "  <tbody>\n",
       "    <tr>\n",
       "      <th>0</th>\n",
       "      <td>4</td>\n",
       "      <td>1</td>\n",
       "      <td>2</td>\n",
       "      <td>4</td>\n",
       "      <td>5</td>\n",
       "    </tr>\n",
       "    <tr>\n",
       "      <th>1</th>\n",
       "      <td>4</td>\n",
       "      <td>1</td>\n",
       "      <td>0</td>\n",
       "      <td>0</td>\n",
       "      <td>0</td>\n",
       "    </tr>\n",
       "    <tr>\n",
       "      <th>2</th>\n",
       "      <td>4</td>\n",
       "      <td>2</td>\n",
       "      <td>4</td>\n",
       "      <td>1</td>\n",
       "      <td>5</td>\n",
       "    </tr>\n",
       "    <tr>\n",
       "      <th>3</th>\n",
       "      <td>4</td>\n",
       "      <td>1</td>\n",
       "      <td>1</td>\n",
       "      <td>7</td>\n",
       "      <td>4</td>\n",
       "    </tr>\n",
       "    <tr>\n",
       "      <th>4</th>\n",
       "      <td>3</td>\n",
       "      <td>1</td>\n",
       "      <td>4</td>\n",
       "      <td>4</td>\n",
       "      <td>1</td>\n",
       "    </tr>\n",
       "  </tbody>\n",
       "</table>\n",
       "</div>"
      ],
      "text/plain": [
       "  ALTERSKATEGORIE_GROB ANREDE_KZ EWDICHTE INNENSTADT LP_STATUS_GROB\n",
       "0                    4         1        2          4              5\n",
       "1                    4         1        0          0              0\n",
       "2                    4         2        4          1              5\n",
       "3                    4         1        1          7              4\n",
       "4                    3         1        4          4              1"
      ]
     },
     "execution_count": 26,
     "metadata": {},
     "output_type": "execute_result"
    }
   ],
   "source": [
    "customers_clean_sub.head()"
   ]
  },
  {
   "cell_type": "code",
   "execution_count": 27,
   "metadata": {},
   "outputs": [
    {
     "name": "stdout",
     "output_type": "stream",
     "text": [
      "<class 'pandas.core.frame.DataFrame'>\n",
      "RangeIndex: 191652 entries, 0 to 191651\n",
      "Data columns (total 5 columns):\n",
      "ALTERSKATEGORIE_GROB    191652 non-null object\n",
      "ANREDE_KZ               191652 non-null object\n",
      "EWDICHTE                191652 non-null object\n",
      "INNENSTADT              191652 non-null object\n",
      "LP_STATUS_GROB          191652 non-null object\n",
      "dtypes: object(5)\n",
      "memory usage: 7.3+ MB\n"
     ]
    }
   ],
   "source": [
    "customers_clean_sub.info()"
   ]
  },
  {
   "cell_type": "code",
   "execution_count": 28,
   "metadata": {},
   "outputs": [
    {
     "name": "stderr",
     "output_type": "stream",
     "text": [
      "/opt/conda/lib/python3.6/site-packages/pandas/core/frame.py:3140: SettingWithCopyWarning: \n",
      "A value is trying to be set on a copy of a slice from a DataFrame.\n",
      "Try using .loc[row_indexer,col_indexer] = value instead\n",
      "\n",
      "See the caveats in the documentation: http://pandas.pydata.org/pandas-docs/stable/indexing.html#indexing-view-versus-copy\n",
      "  self[k1] = value[k2]\n"
     ]
    }
   ],
   "source": [
    "def int_feat_cols(df, feat_cols):\n",
    "    df[feat_cols] = df[feat_cols].astype(int)\n",
    "    \n",
    "    return df\n",
    "\n",
    "azdias_clean_sub = int_feat_cols(azdias_clean_sub, feat_cols)\n",
    "customers_clean_sub = int_feat_cols(customers_clean_sub, feat_cols)"
   ]
  },
  {
   "cell_type": "code",
   "execution_count": 29,
   "metadata": {},
   "outputs": [
    {
     "name": "stdout",
     "output_type": "stream",
     "text": [
      "<class 'pandas.core.frame.DataFrame'>\n",
      "RangeIndex: 891221 entries, 0 to 891220\n",
      "Data columns (total 5 columns):\n",
      "ALTERSKATEGORIE_GROB    891221 non-null int64\n",
      "ANREDE_KZ               891221 non-null int64\n",
      "EWDICHTE                891221 non-null int64\n",
      "INNENSTADT              891221 non-null int64\n",
      "LP_STATUS_GROB          891221 non-null int64\n",
      "dtypes: int64(5)\n",
      "memory usage: 34.0 MB\n"
     ]
    }
   ],
   "source": [
    "azdias_clean_sub.info()"
   ]
  },
  {
   "cell_type": "code",
   "execution_count": 30,
   "metadata": {},
   "outputs": [
    {
     "name": "stdout",
     "output_type": "stream",
     "text": [
      "<class 'pandas.core.frame.DataFrame'>\n",
      "RangeIndex: 191652 entries, 0 to 191651\n",
      "Data columns (total 5 columns):\n",
      "ALTERSKATEGORIE_GROB    191652 non-null int64\n",
      "ANREDE_KZ               191652 non-null int64\n",
      "EWDICHTE                191652 non-null int64\n",
      "INNENSTADT              191652 non-null int64\n",
      "LP_STATUS_GROB          191652 non-null int64\n",
      "dtypes: int64(5)\n",
      "memory usage: 7.3 MB\n"
     ]
    }
   ],
   "source": [
    "customers_clean_sub.info()"
   ]
  },
  {
   "cell_type": "code",
   "execution_count": 31,
   "metadata": {},
   "outputs": [
    {
     "name": "stdout",
     "output_type": "stream",
     "text": [
      "ALTERSKATEGORIE_GROB 0.0\n",
      "ANREDE_KZ 0.0\n",
      "EWDICHTE 0.105181543074\n",
      "INNENSTADT 0.105181543074\n",
      "LP_STATUS_GROB 0.00544646052999\n"
     ]
    }
   ],
   "source": [
    "miss_share(azdias_clean_sub)  "
   ]
  },
  {
   "cell_type": "code",
   "execution_count": 32,
   "metadata": {},
   "outputs": [
    {
     "name": "stdout",
     "output_type": "stream",
     "text": [
      "ALTERSKATEGORIE_GROB 0.0\n",
      "ANREDE_KZ 0.0\n",
      "EWDICHTE 0.260675599524\n",
      "INNENSTADT 0.260675599524\n",
      "LP_STATUS_GROB 0.0167647611295\n"
     ]
    }
   ],
   "source": [
    "miss_share(customers_clean_sub)  "
   ]
  },
  {
   "cell_type": "code",
   "execution_count": 33,
   "metadata": {},
   "outputs": [],
   "source": [
    "azdias_clean_sub.to_csv('azdias_clean_sub.csv', index=False)\n",
    "customers_clean_sub.to_csv('customers_clean_sub.csv', index=False)"
   ]
  },
  {
   "cell_type": "markdown",
   "metadata": {},
   "source": [
    "## Part 1: Customer Segmentation Report\n",
    "\n",
    "The main bulk of your analysis will come in this part of the project. Here, you should use unsupervised learning techniques to describe the relationship between the demographics of the company's existing customers and the general population of Germany. By the end of this part, you should be able to describe parts of the general population that are more likely to be part of the mail-order company's main customer base, and which parts of the general population are less so."
   ]
  },
  {
   "cell_type": "code",
   "execution_count": 34,
   "metadata": {},
   "outputs": [],
   "source": [
    "import pandas as pd\n",
    "import numpy as np\n",
    "import random as rd\n",
    "from sklearn.preprocessing import StandardScaler\n",
    "from sklearn.decomposition import PCA\n",
    "from sklearn.cluster import KMeans\n",
    "import matplotlib.pyplot as plt"
   ]
  },
  {
   "cell_type": "code",
   "execution_count": 35,
   "metadata": {},
   "outputs": [],
   "source": [
    "azdias_clean_sub = pd.read_csv('azdias_clean_sub.csv')\n",
    "customers_clean_sub = pd.read_csv('customers_clean_sub.csv')"
   ]
  },
  {
   "cell_type": "code",
   "execution_count": 36,
   "metadata": {},
   "outputs": [
    {
     "data": {
      "text/html": [
       "<div>\n",
       "<style scoped>\n",
       "    .dataframe tbody tr th:only-of-type {\n",
       "        vertical-align: middle;\n",
       "    }\n",
       "\n",
       "    .dataframe tbody tr th {\n",
       "        vertical-align: top;\n",
       "    }\n",
       "\n",
       "    .dataframe thead th {\n",
       "        text-align: right;\n",
       "    }\n",
       "</style>\n",
       "<table border=\"1\" class=\"dataframe\">\n",
       "  <thead>\n",
       "    <tr style=\"text-align: right;\">\n",
       "      <th></th>\n",
       "      <th>ALTERSKATEGORIE_GROB</th>\n",
       "      <th>ANREDE_KZ</th>\n",
       "      <th>EWDICHTE</th>\n",
       "      <th>INNENSTADT</th>\n",
       "      <th>LP_STATUS_GROB</th>\n",
       "    </tr>\n",
       "  </thead>\n",
       "  <tbody>\n",
       "    <tr>\n",
       "      <th>0</th>\n",
       "      <td>2</td>\n",
       "      <td>1</td>\n",
       "      <td>0</td>\n",
       "      <td>0</td>\n",
       "      <td>1</td>\n",
       "    </tr>\n",
       "    <tr>\n",
       "      <th>1</th>\n",
       "      <td>1</td>\n",
       "      <td>2</td>\n",
       "      <td>3</td>\n",
       "      <td>8</td>\n",
       "      <td>1</td>\n",
       "    </tr>\n",
       "    <tr>\n",
       "      <th>2</th>\n",
       "      <td>3</td>\n",
       "      <td>2</td>\n",
       "      <td>4</td>\n",
       "      <td>4</td>\n",
       "      <td>2</td>\n",
       "    </tr>\n",
       "    <tr>\n",
       "      <th>3</th>\n",
       "      <td>4</td>\n",
       "      <td>2</td>\n",
       "      <td>2</td>\n",
       "      <td>6</td>\n",
       "      <td>4</td>\n",
       "    </tr>\n",
       "    <tr>\n",
       "      <th>4</th>\n",
       "      <td>3</td>\n",
       "      <td>1</td>\n",
       "      <td>5</td>\n",
       "      <td>1</td>\n",
       "      <td>2</td>\n",
       "    </tr>\n",
       "  </tbody>\n",
       "</table>\n",
       "</div>"
      ],
      "text/plain": [
       "   ALTERSKATEGORIE_GROB  ANREDE_KZ  EWDICHTE  INNENSTADT  LP_STATUS_GROB\n",
       "0                     2          1         0           0               1\n",
       "1                     1          2         3           8               1\n",
       "2                     3          2         4           4               2\n",
       "3                     4          2         2           6               4\n",
       "4                     3          1         5           1               2"
      ]
     },
     "execution_count": 36,
     "metadata": {},
     "output_type": "execute_result"
    }
   ],
   "source": [
    "azdias_clean_sub.head()"
   ]
  },
  {
   "cell_type": "code",
   "execution_count": 37,
   "metadata": {
    "scrolled": true
   },
   "outputs": [
    {
     "data": {
      "text/html": [
       "<div>\n",
       "<style scoped>\n",
       "    .dataframe tbody tr th:only-of-type {\n",
       "        vertical-align: middle;\n",
       "    }\n",
       "\n",
       "    .dataframe tbody tr th {\n",
       "        vertical-align: top;\n",
       "    }\n",
       "\n",
       "    .dataframe thead th {\n",
       "        text-align: right;\n",
       "    }\n",
       "</style>\n",
       "<table border=\"1\" class=\"dataframe\">\n",
       "  <thead>\n",
       "    <tr style=\"text-align: right;\">\n",
       "      <th></th>\n",
       "      <th>ALTERSKATEGORIE_GROB</th>\n",
       "      <th>ANREDE_KZ</th>\n",
       "      <th>EWDICHTE</th>\n",
       "      <th>INNENSTADT</th>\n",
       "      <th>LP_STATUS_GROB</th>\n",
       "    </tr>\n",
       "  </thead>\n",
       "  <tbody>\n",
       "    <tr>\n",
       "      <th>0</th>\n",
       "      <td>4</td>\n",
       "      <td>1</td>\n",
       "      <td>2</td>\n",
       "      <td>4</td>\n",
       "      <td>5</td>\n",
       "    </tr>\n",
       "    <tr>\n",
       "      <th>1</th>\n",
       "      <td>4</td>\n",
       "      <td>1</td>\n",
       "      <td>0</td>\n",
       "      <td>0</td>\n",
       "      <td>0</td>\n",
       "    </tr>\n",
       "    <tr>\n",
       "      <th>2</th>\n",
       "      <td>4</td>\n",
       "      <td>2</td>\n",
       "      <td>4</td>\n",
       "      <td>1</td>\n",
       "      <td>5</td>\n",
       "    </tr>\n",
       "    <tr>\n",
       "      <th>3</th>\n",
       "      <td>4</td>\n",
       "      <td>1</td>\n",
       "      <td>1</td>\n",
       "      <td>7</td>\n",
       "      <td>4</td>\n",
       "    </tr>\n",
       "    <tr>\n",
       "      <th>4</th>\n",
       "      <td>3</td>\n",
       "      <td>1</td>\n",
       "      <td>4</td>\n",
       "      <td>4</td>\n",
       "      <td>1</td>\n",
       "    </tr>\n",
       "  </tbody>\n",
       "</table>\n",
       "</div>"
      ],
      "text/plain": [
       "   ALTERSKATEGORIE_GROB  ANREDE_KZ  EWDICHTE  INNENSTADT  LP_STATUS_GROB\n",
       "0                     4          1         2           4               5\n",
       "1                     4          1         0           0               0\n",
       "2                     4          2         4           1               5\n",
       "3                     4          1         1           7               4\n",
       "4                     3          1         4           4               1"
      ]
     },
     "execution_count": 37,
     "metadata": {},
     "output_type": "execute_result"
    }
   ],
   "source": [
    "customers_clean_sub.head()"
   ]
  },
  {
   "cell_type": "code",
   "execution_count": 38,
   "metadata": {},
   "outputs": [],
   "source": [
    "def doPCA(df):\n",
    "    pca = PCA(n_components=2)\n",
    "    pca.fit(df)\n",
    "    return pca "
   ]
  },
  {
   "cell_type": "code",
   "execution_count": 39,
   "metadata": {},
   "outputs": [],
   "source": [
    "# PCA for azdias\n",
    "azdias_pca = doPCA(azdias_clean_sub)"
   ]
  },
  {
   "cell_type": "code",
   "execution_count": 40,
   "metadata": {},
   "outputs": [
    {
     "name": "stdout",
     "output_type": "stream",
     "text": [
      "[ 0.45812692  0.30311023]\n"
     ]
    }
   ],
   "source": [
    "print(azdias_pca.explained_variance_ratio_)"
   ]
  },
  {
   "cell_type": "code",
   "execution_count": 41,
   "metadata": {},
   "outputs": [],
   "source": [
    "azdias_cp1 = azdias_pca.components_[0]\n",
    "azdias_cp2 = azdias_pca.components_[1]"
   ]
  },
  {
   "cell_type": "code",
   "execution_count": 42,
   "metadata": {},
   "outputs": [
    {
     "data": {
      "text/plain": [
       "(array([ 0.06121963, -0.0028058 , -0.32740804,  0.90255267,  0.27284965]),\n",
       " array([-0.03263635, -0.00204213, -0.90764697, -0.38001455,  0.17520449]))"
      ]
     },
     "execution_count": 42,
     "metadata": {},
     "output_type": "execute_result"
    }
   ],
   "source": [
    "azdias_cp1, azdias_cp2"
   ]
  },
  {
   "cell_type": "code",
   "execution_count": 43,
   "metadata": {},
   "outputs": [],
   "source": [
    "# Transform both azdias & customers with azdias fit\n",
    "t_azdias = azdias_pca.transform(azdias_clean_sub)\n",
    "t_customers = azdias_pca.transform(customers_clean_sub)"
   ]
  },
  {
   "cell_type": "code",
   "execution_count": 44,
   "metadata": {},
   "outputs": [
    {
     "data": {
      "text/plain": [
       "array([[-2.95359128,  4.52410676],\n",
       "       [ 3.22058056, -1.20835631],\n",
       "       [-0.32174925, -0.48601331],\n",
       "       ..., \n",
       "       [ 2.07695253,  0.60188789],\n",
       "       [-1.36904845, -2.40919693],\n",
       "       [ 3.7344533 , -0.39657626]])"
      ]
     },
     "execution_count": 44,
     "metadata": {},
     "output_type": "execute_result"
    }
   ],
   "source": [
    "t_azdias"
   ]
  },
  {
   "cell_type": "code",
   "execution_count": 45,
   "metadata": {},
   "outputs": [
    {
     "data": {
      "text/plain": [
       "(891221, 191652)"
      ]
     },
     "execution_count": 45,
     "metadata": {},
     "output_type": "execute_result"
    }
   ],
   "source": [
    "len(t_azdias), len(t_customers)"
   ]
  },
  {
   "cell_type": "code",
   "execution_count": 46,
   "metadata": {},
   "outputs": [
    {
     "data": {
      "image/png": "[encoded data removed]",
      "text/plain": [
       "<matplotlib.figure.Figure at 0x7f7ff6d5d860>"
      ]
     },
     "metadata": {
      "needs_background": "light"
     },
     "output_type": "display_data"
    }
   ],
   "source": [
    "plt.scatter(t_azdias[:,0],t_azdias[:,1]);"
   ]
  },
  {
   "cell_type": "code",
   "execution_count": 47,
   "metadata": {},
   "outputs": [
    {
     "data": {
      "image/png": "[encoded data removed]",
      "text/plain": [
       "<matplotlib.figure.Figure at 0x7f7ff6ea3278>"
      ]
     },
     "metadata": {
      "needs_background": "light"
     },
     "output_type": "display_data"
    }
   ],
   "source": [
    "plt.scatter(t_customers[:,0],t_customers[:,1]);"
   ]
  },
  {
   "cell_type": "code",
   "execution_count": 48,
   "metadata": {},
   "outputs": [
    {
     "data": {
      "image/png": "[encoded data removed]",
      "text/plain": [
       "<matplotlib.figure.Figure at 0x7f7ff6ed4240>"
      ]
     },
     "metadata": {
      "needs_background": "light"
     },
     "output_type": "display_data"
    }
   ],
   "source": [
    "# find cluster size for azdias\n",
    "wcss = []\n",
    "for i in range(1,8):\n",
    "   model = KMeans(n_clusters = i, init = \"k-means++\")\n",
    "   model.fit(t_azdias)\n",
    "   wcss.append(model.inertia_)\n",
    "plt.figure(figsize=(5,5))\n",
    "plt.plot(range(1,8), wcss)\n",
    "plt.xlabel('Number of clusters')\n",
    "plt.ylabel('WCSS')\n",
    "plt.show()"
   ]
  },
  {
   "cell_type": "code",
   "execution_count": 49,
   "metadata": {},
   "outputs": [
    {
     "name": "stdout",
     "output_type": "stream",
     "text": [
      "[2 1 0 ..., 1 0 1]\n",
      "[[-1.84026185 -1.31751276]\n",
      " [ 2.31073234  0.15261896]\n",
      " [-2.5965169   4.70467489]]\n"
     ]
    }
   ],
   "source": [
    "# Initialize the class object\n",
    "kmeans = KMeans(n_clusters=3)\n",
    " \n",
    "#predict the labels of clusters.\n",
    "azdias_label = kmeans.fit_predict(t_azdias)\n",
    "azdias_center = kmeans.cluster_centers_\n",
    "    \n",
    "print(azdias_label)\n",
    "print(azdias_center)"
   ]
  },
  {
   "cell_type": "code",
   "execution_count": 50,
   "metadata": {},
   "outputs": [
    {
     "name": "stdout",
     "output_type": "stream",
     "text": [
      "891221\n"
     ]
    }
   ],
   "source": [
    "print(len(t_azdias))"
   ]
  },
  {
   "cell_type": "code",
   "execution_count": 51,
   "metadata": {},
   "outputs": [
    {
     "name": "stdout",
     "output_type": "stream",
     "text": [
      "891221\n"
     ]
    }
   ],
   "source": [
    "print(len(azdias_label))"
   ]
  },
  {
   "cell_type": "code",
   "execution_count": 52,
   "metadata": {},
   "outputs": [
    {
     "name": "stdout",
     "output_type": "stream",
     "text": [
      "[1 2 0 ..., 1 0 1]\n"
     ]
    },
    {
     "name": "stderr",
     "output_type": "stream",
     "text": [
      "/opt/conda/lib/python3.6/site-packages/sklearn/cluster/k_means_.py:896: RuntimeWarning: Explicit initial center position passed: performing only one init in k-means instead of n_init=10\n",
      "  return_n_iter=True)\n"
     ]
    }
   ],
   "source": [
    "# cluster customers based on azdias centroids\n",
    "kmeans = KMeans(n_clusters=3, init = azdias_center)\n",
    " \n",
    "#predict the labels of clusters.\n",
    "customers_label = kmeans.fit_predict(t_customers)\n",
    "    \n",
    "print(customers_label)"
   ]
  },
  {
   "cell_type": "code",
   "execution_count": 53,
   "metadata": {},
   "outputs": [
    {
     "data": {
      "image/png": "[encoded data removed]",
      "text/plain": [
       "<matplotlib.figure.Figure at 0x7f7ff6eb3588>"
      ]
     },
     "metadata": {
      "needs_background": "light"
     },
     "output_type": "display_data"
    }
   ],
   "source": [
    "u_labels = np.unique(azdias_label)\n",
    " \n",
    "# plotting azdias results:\n",
    " \n",
    "for i in u_labels:\n",
    "    plt.scatter(t_azdias[azdias_label == i , 0] , t_azdias[azdias_label == i , 1] , label = i)\n",
    "plt.scatter(azdias_center[:,0] , azdias_center[:,1] , s = 80, color = 'k')    \n",
    "plt.legend()\n",
    "plt.show()"
   ]
  },
  {
   "cell_type": "code",
   "execution_count": 55,
   "metadata": {},
   "outputs": [
    {
     "data": {
      "image/png": "[encoded data removed]",
      "text/plain": [
       "<matplotlib.figure.Figure at 0x7f7ff6e7fa20>"
      ]
     },
     "metadata": {
      "needs_background": "light"
     },
     "output_type": "display_data"
    }
   ],
   "source": [
    "u_labels = np.unique(customers_label)\n",
    " \n",
    "#plotting customers results:\n",
    " \n",
    "for i in u_labels:\n",
    "    plt.scatter(t_customers[customers_label == i , 0] , t_customers[customers_label == i , 1] , label = i)\n",
    "plt.scatter(azdias_center[:,0] , azdias_center[:,1] , s = 80, color = 'k')        \n",
    "plt.legend()\n",
    "plt.show()"
   ]
  },
  {
   "cell_type": "code",
   "execution_count": 56,
   "metadata": {},
   "outputs": [],
   "source": [
    "# add clustering to the original data \n",
    "azdias_clean_sub['cluster'] = azdias_label\n",
    "customers_clean_sub['cluster'] = customers_label"
   ]
  },
  {
   "cell_type": "code",
   "execution_count": 57,
   "metadata": {},
   "outputs": [
    {
     "data": {
      "text/html": [
       "<div>\n",
       "<style scoped>\n",
       "    .dataframe tbody tr th:only-of-type {\n",
       "        vertical-align: middle;\n",
       "    }\n",
       "\n",
       "    .dataframe tbody tr th {\n",
       "        vertical-align: top;\n",
       "    }\n",
       "\n",
       "    .dataframe thead th {\n",
       "        text-align: right;\n",
       "    }\n",
       "</style>\n",
       "<table border=\"1\" class=\"dataframe\">\n",
       "  <thead>\n",
       "    <tr style=\"text-align: right;\">\n",
       "      <th></th>\n",
       "      <th>ALTERSKATEGORIE_GROB</th>\n",
       "      <th>ANREDE_KZ</th>\n",
       "      <th>EWDICHTE</th>\n",
       "      <th>INNENSTADT</th>\n",
       "      <th>LP_STATUS_GROB</th>\n",
       "      <th>cluster</th>\n",
       "    </tr>\n",
       "  </thead>\n",
       "  <tbody>\n",
       "    <tr>\n",
       "      <th>0</th>\n",
       "      <td>2</td>\n",
       "      <td>1</td>\n",
       "      <td>0</td>\n",
       "      <td>0</td>\n",
       "      <td>1</td>\n",
       "      <td>2</td>\n",
       "    </tr>\n",
       "    <tr>\n",
       "      <th>1</th>\n",
       "      <td>1</td>\n",
       "      <td>2</td>\n",
       "      <td>3</td>\n",
       "      <td>8</td>\n",
       "      <td>1</td>\n",
       "      <td>1</td>\n",
       "    </tr>\n",
       "    <tr>\n",
       "      <th>2</th>\n",
       "      <td>3</td>\n",
       "      <td>2</td>\n",
       "      <td>4</td>\n",
       "      <td>4</td>\n",
       "      <td>2</td>\n",
       "      <td>0</td>\n",
       "    </tr>\n",
       "    <tr>\n",
       "      <th>3</th>\n",
       "      <td>4</td>\n",
       "      <td>2</td>\n",
       "      <td>2</td>\n",
       "      <td>6</td>\n",
       "      <td>4</td>\n",
       "      <td>1</td>\n",
       "    </tr>\n",
       "    <tr>\n",
       "      <th>4</th>\n",
       "      <td>3</td>\n",
       "      <td>1</td>\n",
       "      <td>5</td>\n",
       "      <td>1</td>\n",
       "      <td>2</td>\n",
       "      <td>0</td>\n",
       "    </tr>\n",
       "  </tbody>\n",
       "</table>\n",
       "</div>"
      ],
      "text/plain": [
       "   ALTERSKATEGORIE_GROB  ANREDE_KZ  EWDICHTE  INNENSTADT  LP_STATUS_GROB  \\\n",
       "0                     2          1         0           0               1   \n",
       "1                     1          2         3           8               1   \n",
       "2                     3          2         4           4               2   \n",
       "3                     4          2         2           6               4   \n",
       "4                     3          1         5           1               2   \n",
       "\n",
       "   cluster  \n",
       "0        2  \n",
       "1        1  \n",
       "2        0  \n",
       "3        1  \n",
       "4        0  "
      ]
     },
     "execution_count": 57,
     "metadata": {},
     "output_type": "execute_result"
    }
   ],
   "source": [
    "azdias_clean_sub.head()"
   ]
  },
  {
   "cell_type": "code",
   "execution_count": 58,
   "metadata": {},
   "outputs": [
    {
     "data": {
      "text/html": [
       "<div>\n",
       "<style scoped>\n",
       "    .dataframe tbody tr th:only-of-type {\n",
       "        vertical-align: middle;\n",
       "    }\n",
       "\n",
       "    .dataframe tbody tr th {\n",
       "        vertical-align: top;\n",
       "    }\n",
       "\n",
       "    .dataframe thead th {\n",
       "        text-align: right;\n",
       "    }\n",
       "</style>\n",
       "<table border=\"1\" class=\"dataframe\">\n",
       "  <thead>\n",
       "    <tr style=\"text-align: right;\">\n",
       "      <th></th>\n",
       "      <th>ALTERSKATEGORIE_GROB</th>\n",
       "      <th>ANREDE_KZ</th>\n",
       "      <th>EWDICHTE</th>\n",
       "      <th>INNENSTADT</th>\n",
       "      <th>LP_STATUS_GROB</th>\n",
       "      <th>cluster</th>\n",
       "    </tr>\n",
       "  </thead>\n",
       "  <tbody>\n",
       "    <tr>\n",
       "      <th>0</th>\n",
       "      <td>4</td>\n",
       "      <td>1</td>\n",
       "      <td>2</td>\n",
       "      <td>4</td>\n",
       "      <td>5</td>\n",
       "      <td>1</td>\n",
       "    </tr>\n",
       "    <tr>\n",
       "      <th>1</th>\n",
       "      <td>4</td>\n",
       "      <td>1</td>\n",
       "      <td>0</td>\n",
       "      <td>0</td>\n",
       "      <td>0</td>\n",
       "      <td>2</td>\n",
       "    </tr>\n",
       "    <tr>\n",
       "      <th>2</th>\n",
       "      <td>4</td>\n",
       "      <td>2</td>\n",
       "      <td>4</td>\n",
       "      <td>1</td>\n",
       "      <td>5</td>\n",
       "      <td>0</td>\n",
       "    </tr>\n",
       "    <tr>\n",
       "      <th>3</th>\n",
       "      <td>4</td>\n",
       "      <td>1</td>\n",
       "      <td>1</td>\n",
       "      <td>7</td>\n",
       "      <td>4</td>\n",
       "      <td>1</td>\n",
       "    </tr>\n",
       "    <tr>\n",
       "      <th>4</th>\n",
       "      <td>3</td>\n",
       "      <td>1</td>\n",
       "      <td>4</td>\n",
       "      <td>4</td>\n",
       "      <td>1</td>\n",
       "      <td>0</td>\n",
       "    </tr>\n",
       "  </tbody>\n",
       "</table>\n",
       "</div>"
      ],
      "text/plain": [
       "   ALTERSKATEGORIE_GROB  ANREDE_KZ  EWDICHTE  INNENSTADT  LP_STATUS_GROB  \\\n",
       "0                     4          1         2           4               5   \n",
       "1                     4          1         0           0               0   \n",
       "2                     4          2         4           1               5   \n",
       "3                     4          1         1           7               4   \n",
       "4                     3          1         4           4               1   \n",
       "\n",
       "   cluster  \n",
       "0        1  \n",
       "1        2  \n",
       "2        0  \n",
       "3        1  \n",
       "4        0  "
      ]
     },
     "execution_count": 58,
     "metadata": {},
     "output_type": "execute_result"
    }
   ],
   "source": [
    "customers_clean_sub.head()"
   ]
  },
  {
   "cell_type": "markdown",
   "metadata": {},
   "source": [
    "**Clusters proportions**"
   ]
  },
  {
   "cell_type": "code",
   "execution_count": 59,
   "metadata": {},
   "outputs": [
    {
     "data": {
      "text/plain": [
       "cluster\n",
       "0    43.154279\n",
       "1    46.261365\n",
       "2    10.584356\n",
       "Name: ALTERSKATEGORIE_GROB, dtype: float64"
      ]
     },
     "execution_count": 59,
     "metadata": {},
     "output_type": "execute_result"
    }
   ],
   "source": [
    "azdias_clean_sub.groupby('cluster')['ALTERSKATEGORIE_GROB'].count()/azdias_clean_sub.shape[0]*100"
   ]
  },
  {
   "cell_type": "code",
   "execution_count": 60,
   "metadata": {},
   "outputs": [
    {
     "data": {
      "text/plain": [
       "cluster\n",
       "0    32.197942\n",
       "1    41.705800\n",
       "2    26.096258\n",
       "Name: ALTERSKATEGORIE_GROB, dtype: float64"
      ]
     },
     "execution_count": 60,
     "metadata": {},
     "output_type": "execute_result"
    }
   ],
   "source": [
    "customers_clean_sub.groupby('cluster')['ALTERSKATEGORIE_GROB'].count()/customers_clean_sub.shape[0]*100"
   ]
  },
  {
   "cell_type": "markdown",
   "metadata": {},
   "source": [
    "**ALTERSKATEGORIE_GROB - Age Group**\n",
    "\n",
    "1 &nbsp;&nbsp;&nbsp; < 30 years<br>\n",
    "2 &nbsp;&nbsp;&nbsp; 30 - 45 years<br>\n",
    "3 &nbsp;&nbsp;&nbsp; 46 - 60 years<br>\n",
    "4 &nbsp;&nbsp;&nbsp; > 60 years<br>\n",
    "9 &nbsp;&nbsp;&nbsp; uniformly distributed<br>\n",
    "\n",
    "**Age Groups proportion in the complete data**"
   ]
  },
  {
   "cell_type": "code",
   "execution_count": 61,
   "metadata": {},
   "outputs": [
    {
     "data": {
      "text/plain": [
       "1    16.032724\n",
       "2    17.774491\n",
       "3    40.229416\n",
       "4    25.640105\n",
       "9     0.323264\n",
       "Name: ALTERSKATEGORIE_GROB, dtype: float64"
      ]
     },
     "execution_count": 61,
     "metadata": {},
     "output_type": "execute_result"
    }
   ],
   "source": [
    "azdias_clean_sub['ALTERSKATEGORIE_GROB'].value_counts(sort=False)/azdias_clean_sub.shape[0]*100"
   ]
  },
  {
   "cell_type": "code",
   "execution_count": 62,
   "metadata": {},
   "outputs": [
    {
     "data": {
      "text/plain": [
       "1    14.811742\n",
       "2     9.823534\n",
       "3    30.453113\n",
       "4    44.786384\n",
       "9     0.125227\n",
       "Name: ALTERSKATEGORIE_GROB, dtype: float64"
      ]
     },
     "execution_count": 62,
     "metadata": {},
     "output_type": "execute_result"
    }
   ],
   "source": [
    "customers_clean_sub['ALTERSKATEGORIE_GROB'].value_counts(sort=False)/customers_clean_sub.shape[0]*100"
   ]
  },
  {
   "cell_type": "markdown",
   "metadata": {},
   "source": [
    "**Age Groups proportion in clusters**"
   ]
  },
  {
   "cell_type": "code",
   "execution_count": 63,
   "metadata": {},
   "outputs": [
    {
     "data": {
      "text/plain": [
       "cluster  ALTERSKATEGORIE_GROB\n",
       "0        1                       17.534581\n",
       "         2                       18.773271\n",
       "         3                       38.669007\n",
       "         4                       24.633125\n",
       "         9                        0.390016\n",
       "1        1                       13.780315\n",
       "         2                       15.695225\n",
       "         3                       39.116061\n",
       "         4                       31.092360\n",
       "         9                        0.316039\n",
       "2        1                       19.754055\n",
       "         2                       22.790205\n",
       "         3                       51.457649\n",
       "         4                        5.915403\n",
       "         9                        0.082688\n",
       "Name: ALTERSKATEGORIE_GROB, dtype: float64"
      ]
     },
     "execution_count": 63,
     "metadata": {},
     "output_type": "execute_result"
    }
   ],
   "source": [
    "azdias_clean_sub.groupby('cluster')['ALTERSKATEGORIE_GROB'].value_counts(sort=False)\\\n",
    "                  /azdias_clean_sub.groupby('cluster')['ALTERSKATEGORIE_GROB'].count()*100"
   ]
  },
  {
   "cell_type": "code",
   "execution_count": 64,
   "metadata": {},
   "outputs": [
    {
     "data": {
      "text/plain": [
       "cluster  ALTERSKATEGORIE_GROB\n",
       "0        1                        4.490504\n",
       "         2                        4.083749\n",
       "         3                       33.861088\n",
       "         4                       57.404226\n",
       "         9                        0.160433\n",
       "1        1                        2.743651\n",
       "         2                        3.281621\n",
       "         3                       33.092706\n",
       "         4                       60.714375\n",
       "         9                        0.167647\n",
       "2        1                       46.832887\n",
       "         2                       27.360339\n",
       "         3                       22.029832\n",
       "         4                        3.762946\n",
       "         9                        0.013996\n",
       "Name: ALTERSKATEGORIE_GROB, dtype: float64"
      ]
     },
     "execution_count": 64,
     "metadata": {},
     "output_type": "execute_result"
    }
   ],
   "source": [
    "customers_clean_sub.groupby('cluster')['ALTERSKATEGORIE_GROB'].value_counts(sort=False) \\\n",
    "                     /customers_clean_sub.groupby('cluster')['ALTERSKATEGORIE_GROB'].count()*100"
   ]
  },
  {
   "cell_type": "markdown",
   "metadata": {},
   "source": [
    "**ANREDE_KZ - Gender**\n",
    "\n",
    "1 &nbsp;&nbsp;&nbsp; male<br>\n",
    "2 &nbsp;&nbsp;&nbsp; female<br>\n",
    "\n",
    "**Gender proportion in the complete data**"
   ]
  },
  {
   "cell_type": "code",
   "execution_count": 65,
   "metadata": {},
   "outputs": [
    {
     "data": {
      "text/plain": [
       "1    47.790167\n",
       "2    52.209833\n",
       "Name: ANREDE_KZ, dtype: float64"
      ]
     },
     "execution_count": 65,
     "metadata": {},
     "output_type": "execute_result"
    }
   ],
   "source": [
    "azdias_clean_sub['ANREDE_KZ'].value_counts(sort=False)/azdias_clean_sub.shape[0]*100"
   ]
  },
  {
   "cell_type": "code",
   "execution_count": 66,
   "metadata": {},
   "outputs": [
    {
     "data": {
      "text/plain": [
       "1    62.356772\n",
       "2    37.643228\n",
       "Name: ANREDE_KZ, dtype: float64"
      ]
     },
     "execution_count": 66,
     "metadata": {},
     "output_type": "execute_result"
    }
   ],
   "source": [
    "customers_clean_sub['ANREDE_KZ'].value_counts(sort=False)/customers_clean_sub.shape[0]*100"
   ]
  },
  {
   "cell_type": "markdown",
   "metadata": {},
   "source": [
    "**Gender proportion in clusters**"
   ]
  },
  {
   "cell_type": "code",
   "execution_count": 67,
   "metadata": {},
   "outputs": [
    {
     "data": {
      "text/plain": [
       "cluster  ANREDE_KZ\n",
       "0        1            47.435517\n",
       "         2            52.564483\n",
       "1        1            48.247476\n",
       "         2            51.752524\n",
       "2        1            47.237358\n",
       "         2            52.762642\n",
       "Name: ANREDE_KZ, dtype: float64"
      ]
     },
     "execution_count": 67,
     "metadata": {},
     "output_type": "execute_result"
    }
   ],
   "source": [
    "azdias_clean_sub.groupby('cluster')['ANREDE_KZ'].value_counts(sort=False) \\\n",
    "                     /azdias_clean_sub.groupby('cluster')['ANREDE_KZ'].count()*100"
   ]
  },
  {
   "cell_type": "code",
   "execution_count": 68,
   "metadata": {},
   "outputs": [
    {
     "data": {
      "text/plain": [
       "cluster  ANREDE_KZ\n",
       "0        1            63.534712\n",
       "         2            36.465288\n",
       "1        1            69.560866\n",
       "         2            30.439134\n",
       "2        1            49.390171\n",
       "         2            50.609829\n",
       "Name: ANREDE_KZ, dtype: float64"
      ]
     },
     "execution_count": 68,
     "metadata": {},
     "output_type": "execute_result"
    }
   ],
   "source": [
    "customers_clean_sub.groupby('cluster')['ANREDE_KZ'].value_counts(sort=False) \\\n",
    "                     /customers_clean_sub.groupby('cluster')['ANREDE_KZ'].count()*100"
   ]
  },
  {
   "cell_type": "markdown",
   "metadata": {},
   "source": [
    "**LP_STATUS_GROB - Earning Level**\n",
    "\n",
    "0 &nbsp;&nbsp;&nbsp; Unknown<br>\n",
    "1 &nbsp;&nbsp;&nbsp; typical low-income earners<br>\n",
    "2 &nbsp;&nbsp;&nbsp; orientationseeking low-income earners<br>\n",
    "3 &nbsp;&nbsp;&nbsp; aspiring low-income earners<br>\n",
    "4 &nbsp;&nbsp;&nbsp; villagers<br>\n",
    "5 &nbsp;&nbsp;&nbsp; minimalistic high-income earners<br>\n",
    "6 &nbsp;&nbsp;&nbsp; independant workers<br>\n",
    "7 &nbsp;&nbsp;&nbsp; title holder-households<br>\n",
    "8 &nbsp;&nbsp;&nbsp; new houseowners<br>\n",
    "9 &nbsp;&nbsp;&nbsp; houseowners<br>\n",
    "10 &nbsp; top earners<br>\n",
    "\n",
    "**Earning Level proportion in the complete data**"
   ]
  },
  {
   "cell_type": "code",
   "execution_count": 69,
   "metadata": {},
   "outputs": [
    {
     "data": {
      "text/plain": [
       "0     0.544646\n",
       "1    37.870629\n",
       "2    25.461137\n",
       "3     4.597401\n",
       "4    18.283456\n",
       "5    13.242731\n",
       "Name: LP_STATUS_GROB, dtype: float64"
      ]
     },
     "execution_count": 69,
     "metadata": {},
     "output_type": "execute_result"
    }
   ],
   "source": [
    "azdias_clean_sub['LP_STATUS_GROB'].value_counts(sort=False)/azdias_clean_sub.shape[0]*100"
   ]
  },
  {
   "cell_type": "code",
   "execution_count": 70,
   "metadata": {},
   "outputs": [
    {
     "data": {
      "text/plain": [
       "0     1.676476\n",
       "1    10.787782\n",
       "2    32.496400\n",
       "3     8.909899\n",
       "4    17.612652\n",
       "5    28.516791\n",
       "Name: LP_STATUS_GROB, dtype: float64"
      ]
     },
     "execution_count": 70,
     "metadata": {},
     "output_type": "execute_result"
    }
   ],
   "source": [
    "customers_clean_sub['LP_STATUS_GROB'].value_counts(sort=False)/customers_clean_sub.shape[0]*100"
   ]
  },
  {
   "cell_type": "markdown",
   "metadata": {},
   "source": [
    "**Earning Level proportion in clusters**"
   ]
  },
  {
   "cell_type": "code",
   "execution_count": 71,
   "metadata": {},
   "outputs": [
    {
     "data": {
      "text/plain": [
       "cluster  LP_STATUS_GROB\n",
       "0        0                  0.697348\n",
       "         1                 63.260790\n",
       "         2                 17.333333\n",
       "         3                  4.097504\n",
       "         4                  5.058502\n",
       "         5                  9.552522\n",
       "1        0                  0.501345\n",
       "         1                 18.062728\n",
       "         2                 25.109207\n",
       "         3                  5.405163\n",
       "         4                 32.822448\n",
       "         5                 18.099110\n",
       "2        0                  0.111311\n",
       "         1                 20.925474\n",
       "         2                 60.137814\n",
       "         3                  3.105057\n",
       "         4                  8.657903\n",
       "         5                  7.062440\n",
       "Name: LP_STATUS_GROB, dtype: float64"
      ]
     },
     "execution_count": 71,
     "metadata": {},
     "output_type": "execute_result"
    }
   ],
   "source": [
    "azdias_clean_sub.groupby('cluster')['LP_STATUS_GROB'].value_counts(sort=False) \\\n",
    "                     /azdias_clean_sub.groupby('cluster')['LP_STATUS_GROB'].count()*100"
   ]
  },
  {
   "cell_type": "code",
   "execution_count": 72,
   "metadata": {},
   "outputs": [
    {
     "data": {
      "text/plain": [
       "cluster  LP_STATUS_GROB\n",
       "0        0                  3.477669\n",
       "         1                 24.910871\n",
       "         2                 19.827251\n",
       "         3                 12.536462\n",
       "         4                  8.606664\n",
       "         5                 30.641084\n",
       "1        0                  1.222320\n",
       "         1                  4.956837\n",
       "         2                  9.275616\n",
       "         3                 10.022520\n",
       "         4                 33.671963\n",
       "         5                 40.850744\n",
       "2        0                  0.179950\n",
       "         1                  2.681249\n",
       "         2                 85.238133\n",
       "         3                  2.657256\n",
       "         4                  3.059143\n",
       "         5                  6.184268\n",
       "Name: LP_STATUS_GROB, dtype: float64"
      ]
     },
     "execution_count": 72,
     "metadata": {},
     "output_type": "execute_result"
    }
   ],
   "source": [
    "customers_clean_sub.groupby('cluster')['LP_STATUS_GROB'].value_counts(sort=False) \\\n",
    "                     /customers_clean_sub.groupby('cluster')['LP_STATUS_GROB'].count()*100"
   ]
  },
  {
   "cell_type": "markdown",
   "metadata": {},
   "source": [
    "## Part 2: Supervised Learning Model\n",
    "\n",
    "Now that you've found which parts of the population are more likely to be customers of the mail-order company, it's time to build a prediction model. Each of the rows in the \"MAILOUT\" data files represents an individual that was targeted for a mailout campaign. Ideally, we should be able to use the demographic information from each individual to decide whether or not it will be worth it to include that person in the campaign.\n",
    "\n",
    "The \"MAILOUT\" data has been split into two approximately equal parts, each with almost 43 000 data rows. In this part, you can verify your model with the \"TRAIN\" partition, which includes a column, \"RESPONSE\", that states whether or not a person became a customer of the company following the campaign. In the next part, you'll need to create predictions on the \"TEST\" partition, where the \"RESPONSE\" column has been withheld."
   ]
  },
  {
   "cell_type": "code",
   "execution_count": 73,
   "metadata": {},
   "outputs": [],
   "source": [
    "# mailout_train = pd.read_csv('../../data/Term2/capstone/arvato_data/Udacity_MAILOUT_052018_TRAIN.csv', sep=';')"
   ]
  },
  {
   "cell_type": "code",
   "execution_count": null,
   "metadata": {},
   "outputs": [],
   "source": []
  }
 ],
 "metadata": {
  "kernelspec": {
   "display_name": "Python 3",
   "language": "python",
   "name": "python3"
  },
  "language_info": {
   "codemirror_mode": {
    "name": "ipython",
    "version": 3
   },
   "file_extension": ".py",
   "mimetype": "text/x-python",
   "name": "python",
   "nbconvert_exporter": "python",
   "pygments_lexer": "ipython3",
   "version": "3.6.3"
  }
 },
 "nbformat": 4,
 "nbformat_minor": 2
}
