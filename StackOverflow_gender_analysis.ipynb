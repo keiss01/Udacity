{
 "cells": [
  {
   "cell_type": "markdown",
   "metadata": {},
   "source": [
    "### Proj 1\n",
    "#### Developers' Gender Ratios\n",
    "#### Based on Stack Overflow Survey 2020\n",
    "The datasets are available for download here: https://insights.stackoverflow.com/survey<br>\n",
    "A description of the motivation and findings of the investigation below is available here:<br>\n",
    "https://aviak.medium.com/developers-gender-ratios-you-may-be-in-for-a-surprise-1fbec813944b"
   ]
  },
  {
   "cell_type": "code",
   "execution_count": 1,
   "metadata": {},
   "outputs": [
    {
     "data": {
      "text/html": [
       "<div>\n",
       "<style scoped>\n",
       "    .dataframe tbody tr th:only-of-type {\n",
       "        vertical-align: middle;\n",
       "    }\n",
       "\n",
       "    .dataframe tbody tr th {\n",
       "        vertical-align: top;\n",
       "    }\n",
       "\n",
       "    .dataframe thead th {\n",
       "        text-align: right;\n",
       "    }\n",
       "</style>\n",
       "<table border=\"1\" class=\"dataframe\">\n",
       "  <thead>\n",
       "    <tr style=\"text-align: right;\">\n",
       "      <th></th>\n",
       "      <th>Respondent</th>\n",
       "      <th>MainBranch</th>\n",
       "      <th>Hobbyist</th>\n",
       "      <th>Age</th>\n",
       "      <th>Age1stCode</th>\n",
       "      <th>CompFreq</th>\n",
       "      <th>CompTotal</th>\n",
       "      <th>ConvertedComp</th>\n",
       "      <th>Country</th>\n",
       "      <th>CurrencyDesc</th>\n",
       "      <th>...</th>\n",
       "      <th>SurveyEase</th>\n",
       "      <th>SurveyLength</th>\n",
       "      <th>Trans</th>\n",
       "      <th>UndergradMajor</th>\n",
       "      <th>WebframeDesireNextYear</th>\n",
       "      <th>WebframeWorkedWith</th>\n",
       "      <th>WelcomeChange</th>\n",
       "      <th>WorkWeekHrs</th>\n",
       "      <th>YearsCode</th>\n",
       "      <th>YearsCodePro</th>\n",
       "    </tr>\n",
       "  </thead>\n",
       "  <tbody>\n",
       "    <tr>\n",
       "      <td>0</td>\n",
       "      <td>1</td>\n",
       "      <td>I am a developer by profession</td>\n",
       "      <td>Yes</td>\n",
       "      <td>NaN</td>\n",
       "      <td>13</td>\n",
       "      <td>Monthly</td>\n",
       "      <td>NaN</td>\n",
       "      <td>NaN</td>\n",
       "      <td>Germany</td>\n",
       "      <td>European Euro</td>\n",
       "      <td>...</td>\n",
       "      <td>Neither easy nor difficult</td>\n",
       "      <td>Appropriate in length</td>\n",
       "      <td>No</td>\n",
       "      <td>Computer science, computer engineering, or sof...</td>\n",
       "      <td>ASP.NET Core</td>\n",
       "      <td>ASP.NET;ASP.NET Core</td>\n",
       "      <td>Just as welcome now as I felt last year</td>\n",
       "      <td>50.0</td>\n",
       "      <td>36</td>\n",
       "      <td>27</td>\n",
       "    </tr>\n",
       "    <tr>\n",
       "      <td>1</td>\n",
       "      <td>2</td>\n",
       "      <td>I am a developer by profession</td>\n",
       "      <td>No</td>\n",
       "      <td>NaN</td>\n",
       "      <td>19</td>\n",
       "      <td>NaN</td>\n",
       "      <td>NaN</td>\n",
       "      <td>NaN</td>\n",
       "      <td>United Kingdom</td>\n",
       "      <td>Pound sterling</td>\n",
       "      <td>...</td>\n",
       "      <td>NaN</td>\n",
       "      <td>NaN</td>\n",
       "      <td>NaN</td>\n",
       "      <td>Computer science, computer engineering, or sof...</td>\n",
       "      <td>NaN</td>\n",
       "      <td>NaN</td>\n",
       "      <td>Somewhat more welcome now than last year</td>\n",
       "      <td>NaN</td>\n",
       "      <td>7</td>\n",
       "      <td>4</td>\n",
       "    </tr>\n",
       "    <tr>\n",
       "      <td>2</td>\n",
       "      <td>3</td>\n",
       "      <td>I code primarily as a hobby</td>\n",
       "      <td>Yes</td>\n",
       "      <td>NaN</td>\n",
       "      <td>15</td>\n",
       "      <td>NaN</td>\n",
       "      <td>NaN</td>\n",
       "      <td>NaN</td>\n",
       "      <td>Russian Federation</td>\n",
       "      <td>NaN</td>\n",
       "      <td>...</td>\n",
       "      <td>Neither easy nor difficult</td>\n",
       "      <td>Appropriate in length</td>\n",
       "      <td>NaN</td>\n",
       "      <td>NaN</td>\n",
       "      <td>NaN</td>\n",
       "      <td>NaN</td>\n",
       "      <td>Somewhat more welcome now than last year</td>\n",
       "      <td>NaN</td>\n",
       "      <td>4</td>\n",
       "      <td>NaN</td>\n",
       "    </tr>\n",
       "    <tr>\n",
       "      <td>3</td>\n",
       "      <td>4</td>\n",
       "      <td>I am a developer by profession</td>\n",
       "      <td>Yes</td>\n",
       "      <td>25.0</td>\n",
       "      <td>18</td>\n",
       "      <td>NaN</td>\n",
       "      <td>NaN</td>\n",
       "      <td>NaN</td>\n",
       "      <td>Albania</td>\n",
       "      <td>Albanian lek</td>\n",
       "      <td>...</td>\n",
       "      <td>NaN</td>\n",
       "      <td>NaN</td>\n",
       "      <td>No</td>\n",
       "      <td>Computer science, computer engineering, or sof...</td>\n",
       "      <td>NaN</td>\n",
       "      <td>NaN</td>\n",
       "      <td>Somewhat less welcome now than last year</td>\n",
       "      <td>40.0</td>\n",
       "      <td>7</td>\n",
       "      <td>4</td>\n",
       "    </tr>\n",
       "    <tr>\n",
       "      <td>4</td>\n",
       "      <td>5</td>\n",
       "      <td>I used to be a developer by profession, but no...</td>\n",
       "      <td>Yes</td>\n",
       "      <td>31.0</td>\n",
       "      <td>16</td>\n",
       "      <td>NaN</td>\n",
       "      <td>NaN</td>\n",
       "      <td>NaN</td>\n",
       "      <td>United States</td>\n",
       "      <td>NaN</td>\n",
       "      <td>...</td>\n",
       "      <td>Easy</td>\n",
       "      <td>Too short</td>\n",
       "      <td>No</td>\n",
       "      <td>Computer science, computer engineering, or sof...</td>\n",
       "      <td>Django;Ruby on Rails</td>\n",
       "      <td>Ruby on Rails</td>\n",
       "      <td>Just as welcome now as I felt last year</td>\n",
       "      <td>NaN</td>\n",
       "      <td>15</td>\n",
       "      <td>8</td>\n",
       "    </tr>\n",
       "  </tbody>\n",
       "</table>\n",
       "<p>5 rows × 61 columns</p>\n",
       "</div>"
      ],
      "text/plain": [
       "   Respondent                                         MainBranch Hobbyist  \\\n",
       "0           1                     I am a developer by profession      Yes   \n",
       "1           2                     I am a developer by profession       No   \n",
       "2           3                        I code primarily as a hobby      Yes   \n",
       "3           4                     I am a developer by profession      Yes   \n",
       "4           5  I used to be a developer by profession, but no...      Yes   \n",
       "\n",
       "    Age Age1stCode CompFreq  CompTotal  ConvertedComp             Country  \\\n",
       "0   NaN         13  Monthly        NaN            NaN             Germany   \n",
       "1   NaN         19      NaN        NaN            NaN      United Kingdom   \n",
       "2   NaN         15      NaN        NaN            NaN  Russian Federation   \n",
       "3  25.0         18      NaN        NaN            NaN             Albania   \n",
       "4  31.0         16      NaN        NaN            NaN       United States   \n",
       "\n",
       "     CurrencyDesc  ...                  SurveyEase           SurveyLength  \\\n",
       "0   European Euro  ...  Neither easy nor difficult  Appropriate in length   \n",
       "1  Pound sterling  ...                         NaN                    NaN   \n",
       "2             NaN  ...  Neither easy nor difficult  Appropriate in length   \n",
       "3    Albanian lek  ...                         NaN                    NaN   \n",
       "4             NaN  ...                        Easy              Too short   \n",
       "\n",
       "  Trans                                     UndergradMajor  \\\n",
       "0    No  Computer science, computer engineering, or sof...   \n",
       "1   NaN  Computer science, computer engineering, or sof...   \n",
       "2   NaN                                                NaN   \n",
       "3    No  Computer science, computer engineering, or sof...   \n",
       "4    No  Computer science, computer engineering, or sof...   \n",
       "\n",
       "  WebframeDesireNextYear    WebframeWorkedWith  \\\n",
       "0           ASP.NET Core  ASP.NET;ASP.NET Core   \n",
       "1                    NaN                   NaN   \n",
       "2                    NaN                   NaN   \n",
       "3                    NaN                   NaN   \n",
       "4   Django;Ruby on Rails         Ruby on Rails   \n",
       "\n",
       "                              WelcomeChange WorkWeekHrs YearsCode YearsCodePro  \n",
       "0   Just as welcome now as I felt last year        50.0        36           27  \n",
       "1  Somewhat more welcome now than last year         NaN         7            4  \n",
       "2  Somewhat more welcome now than last year         NaN         4          NaN  \n",
       "3  Somewhat less welcome now than last year        40.0         7            4  \n",
       "4   Just as welcome now as I felt last year         NaN        15            8  \n",
       "\n",
       "[5 rows x 61 columns]"
      ]
     },
     "execution_count": 1,
     "metadata": {},
     "output_type": "execute_result"
    }
   ],
   "source": [
    "import numpy as np\n",
    "import pandas as pd\n",
    "import matplotlib.pyplot as plt\n",
    "from sklearn.linear_model import LinearRegression\n",
    "from sklearn.model_selection import train_test_split\n",
    "from sklearn.metrics import r2_score, mean_squared_error\n",
    "#import AllTogether as t\n",
    "import seaborn as sns\n",
    "%matplotlib inline\n",
    "\n",
    "df = pd.read_csv('./survey_results_public_2020.csv')\n",
    "df_schema = pd.read_csv('./survey_results_schema_2020.csv')\n",
    "df.head()"
   ]
  },
  {
   "cell_type": "code",
   "execution_count": 2,
   "metadata": {},
   "outputs": [
    {
     "data": {
      "text/plain": [
       "(64461, 61)"
      ]
     },
     "execution_count": 2,
     "metadata": {},
     "output_type": "execute_result"
    }
   ],
   "source": [
    "df.shape"
   ]
  },
  {
   "cell_type": "code",
   "execution_count": 3,
   "metadata": {},
   "outputs": [
    {
     "data": {
      "text/plain": [
       "['MainBranch',\n",
       " 'Hobbyist',\n",
       " 'Age1stCode',\n",
       " 'CompFreq',\n",
       " 'Country',\n",
       " 'CurrencyDesc',\n",
       " 'CurrencySymbol',\n",
       " 'DatabaseDesireNextYear',\n",
       " 'DatabaseWorkedWith',\n",
       " 'DevType',\n",
       " 'EdLevel',\n",
       " 'Employment',\n",
       " 'Ethnicity',\n",
       " 'Gender',\n",
       " 'JobFactors',\n",
       " 'JobSat',\n",
       " 'JobSeek',\n",
       " 'LanguageDesireNextYear',\n",
       " 'LanguageWorkedWith',\n",
       " 'MiscTechDesireNextYear',\n",
       " 'MiscTechWorkedWith',\n",
       " 'NEWCollabToolsDesireNextYear',\n",
       " 'NEWCollabToolsWorkedWith',\n",
       " 'NEWDevOps',\n",
       " 'NEWDevOpsImpt',\n",
       " 'NEWEdImpt',\n",
       " 'NEWJobHunt',\n",
       " 'NEWJobHuntResearch',\n",
       " 'NEWLearn',\n",
       " 'NEWOffTopic',\n",
       " 'NEWOnboardGood',\n",
       " 'NEWOtherComms',\n",
       " 'NEWOvertime',\n",
       " 'NEWPurchaseResearch',\n",
       " 'NEWPurpleLink',\n",
       " 'NEWSOSites',\n",
       " 'NEWStuck',\n",
       " 'OpSys',\n",
       " 'OrgSize',\n",
       " 'PlatformDesireNextYear',\n",
       " 'PlatformWorkedWith',\n",
       " 'PurchaseWhat',\n",
       " 'Sexuality',\n",
       " 'SOAccount',\n",
       " 'SOComm',\n",
       " 'SOPartFreq',\n",
       " 'SOVisitFreq',\n",
       " 'SurveyEase',\n",
       " 'SurveyLength',\n",
       " 'Trans',\n",
       " 'UndergradMajor',\n",
       " 'WebframeDesireNextYear',\n",
       " 'WebframeWorkedWith',\n",
       " 'WelcomeChange',\n",
       " 'YearsCode',\n",
       " 'YearsCodePro']"
      ]
     },
     "execution_count": 3,
     "metadata": {},
     "output_type": "execute_result"
    }
   ],
   "source": [
    "# list categorical columns\n",
    "list(df.select_dtypes(include=object).columns)"
   ]
  },
  {
   "cell_type": "code",
   "execution_count": 4,
   "metadata": {},
   "outputs": [
    {
     "data": {
      "text/plain": [
       "['Respondent', 'Age', 'CompTotal', 'ConvertedComp', 'WorkWeekHrs']"
      ]
     },
     "execution_count": 4,
     "metadata": {},
     "output_type": "execute_result"
    }
   ],
   "source": [
    "# list numeric columns\n",
    "list(df.select_dtypes(include=np.number).columns)"
   ]
  },
  {
   "cell_type": "code",
   "execution_count": 5,
   "metadata": {},
   "outputs": [
    {
     "data": {
      "text/plain": [
       "184"
      ]
     },
     "execution_count": 5,
     "metadata": {},
     "output_type": "execute_result"
    }
   ],
   "source": [
    "# check how many countries are represented\n",
    "len(df['Country'].unique())"
   ]
  },
  {
   "cell_type": "code",
   "execution_count": 6,
   "metadata": {},
   "outputs": [
    {
     "data": {
      "text/plain": [
       "['Which of the following describe you, if any? Please check all that apply. If you prefer not to answer, you may leave this question blank.']"
      ]
     },
     "execution_count": 6,
     "metadata": {},
     "output_type": "execute_result"
    }
   ],
   "source": [
    "# Display Gender field question\n",
    "list(df_schema[df_schema['Column']=='Gender']['QuestionText'])"
   ]
  },
  {
   "cell_type": "code",
   "execution_count": 7,
   "metadata": {},
   "outputs": [
    {
     "data": {
      "text/plain": [
       "Man                                                            46013\n",
       "NaN                                                            13904\n",
       "Woman                                                           3844\n",
       "Non-binary, genderqueer, or gender non-conforming                385\n",
       "Man;Non-binary, genderqueer, or gender non-conforming            121\n",
       "Woman;Non-binary, genderqueer, or gender non-conforming           92\n",
       "Woman;Man                                                         76\n",
       "Woman;Man;Non-binary, genderqueer, or gender non-conforming       26\n",
       "Name: Gender, dtype: int64"
      ]
     },
     "execution_count": 7,
     "metadata": {},
     "output_type": "execute_result"
    }
   ],
   "source": [
    "# All genders count\n",
    "df['Gender'].value_counts(dropna=False)"
   ]
  },
  {
   "cell_type": "markdown",
   "metadata": {},
   "source": [
    "__note:__<br>\n",
    "Gender with NaN value or Undisclosed Gender constitutes a significant share of the data,<br>\n",
    "for the sake of the genders statustics in this notebook, we will ignore this data,<br>\n",
    "however, we can keep that in mind for further investigations, which are not in the scope of this exploration."
   ]
  },
  {
   "cell_type": "markdown",
   "metadata": {},
   "source": [
    "__Handling categorical column Gender__<br>\n",
    "Add a column 'Gen3' which merges other gender IDs (not Man or Woman) into one category 'Another Gender ID'."
   ]
  },
  {
   "cell_type": "code",
   "execution_count": 8,
   "metadata": {},
   "outputs": [
    {
     "name": "stderr",
     "output_type": "stream",
     "text": [
      "C:\\Users\\keiss01\\AppData\\Local\\Continuum\\anaconda3\\lib\\site-packages\\ipykernel_launcher.py:3: SettingWithCopyWarning: \n",
      "A value is trying to be set on a copy of a slice from a DataFrame.\n",
      "Try using .loc[row_indexer,col_indexer] = value instead\n",
      "\n",
      "See the caveats in the documentation: http://pandas.pydata.org/pandas-docs/stable/user_guide/indexing.html#returning-a-view-versus-a-copy\n",
      "  This is separate from the ipykernel package so we can avoid doing imports until\n",
      "C:\\Users\\keiss01\\AppData\\Local\\Continuum\\anaconda3\\lib\\site-packages\\pandas\\core\\indexing.py:494: SettingWithCopyWarning: \n",
      "A value is trying to be set on a copy of a slice from a DataFrame.\n",
      "Try using .loc[row_indexer,col_indexer] = value instead\n",
      "\n",
      "See the caveats in the documentation: http://pandas.pydata.org/pandas-docs/stable/user_guide/indexing.html#returning-a-view-versus-a-copy\n",
      "  self.obj[item] = s\n"
     ]
    }
   ],
   "source": [
    "# add a column 'Gen3' which merger other gender IDs (not Man or Woman) into one category\n",
    "df_gen = df.dropna(subset= ['Gender'])\n",
    "df_gen['Gen3'] = df_gen['Gender']\n",
    "df_gen.loc[~df_gen.Gender.isin(['Man', 'Woman']), 'Gen3'] = 'Another Gender ID'"
   ]
  },
  {
   "cell_type": "code",
   "execution_count": 9,
   "metadata": {},
   "outputs": [
    {
     "data": {
      "text/plain": [
       "(50557, 62)"
      ]
     },
     "execution_count": 9,
     "metadata": {},
     "output_type": "execute_result"
    }
   ],
   "source": [
    "df_gen.shape"
   ]
  },
  {
   "cell_type": "code",
   "execution_count": 10,
   "metadata": {},
   "outputs": [
    {
     "data": {
      "text/plain": [
       "Man                  46013\n",
       "Woman                 3844\n",
       "Another Gender ID      700\n",
       "Name: Gen3, dtype: int64"
      ]
     },
     "execution_count": 10,
     "metadata": {},
     "output_type": "execute_result"
    }
   ],
   "source": [
    "# 3 genders count\n",
    "df_gen['Gen3'].value_counts()"
   ]
  },
  {
   "cell_type": "code",
   "execution_count": 11,
   "metadata": {},
   "outputs": [
    {
     "data": {
      "text/plain": [
       "Man                                                            0.910121\n",
       "Woman                                                          0.076033\n",
       "Non-binary, genderqueer, or gender non-conforming              0.007615\n",
       "Man;Non-binary, genderqueer, or gender non-conforming          0.002393\n",
       "Woman;Non-binary, genderqueer, or gender non-conforming        0.001820\n",
       "Woman;Man                                                      0.001503\n",
       "Woman;Man;Non-binary, genderqueer, or gender non-conforming    0.000514\n",
       "Name: Gender, dtype: float64"
      ]
     },
     "execution_count": 11,
     "metadata": {},
     "output_type": "execute_result"
    }
   ],
   "source": [
    "# share of all genders\n",
    "df_gen['Gender'].value_counts(dropna=False)/df_gen.shape[0]"
   ]
  },
  {
   "cell_type": "markdown",
   "metadata": {},
   "source": [
    "### Questoin 1\n",
    "#### Gender share by Country\n",
    "##### What are the gender ratios of the survey respondenta within each country ?\n",
    "The following section investigates the gender ratio per country for the top 20 countries."
   ]
  },
  {
   "cell_type": "code",
   "execution_count": 12,
   "metadata": {},
   "outputs": [
    {
     "data": {
      "text/plain": [
       "United States          10490\n",
       "India                   5415\n",
       "Germany                 3341\n",
       "United Kingdom          3274\n",
       "Canada                  1827\n",
       "                       ...  \n",
       "Cape Verde                 1\n",
       "Guinea                     1\n",
       "Nauru                      1\n",
       "Antigua and Barbuda        1\n",
       "Papua New Guinea           1\n",
       "Name: Country, Length: 173, dtype: int64"
      ]
     },
     "execution_count": 12,
     "metadata": {},
     "output_type": "execute_result"
    }
   ],
   "source": [
    "df_gen['Country'].value_counts(dropna=False) "
   ]
  },
  {
   "cell_type": "code",
   "execution_count": 13,
   "metadata": {},
   "outputs": [
    {
     "data": {
      "text/plain": [
       "0"
      ]
     },
     "execution_count": 13,
     "metadata": {},
     "output_type": "execute_result"
    }
   ],
   "source": [
    "# check if there are countries with NaN value\n",
    "df_gen['Country'].isnull().sum()"
   ]
  },
  {
   "cell_type": "code",
   "execution_count": 14,
   "metadata": {},
   "outputs": [
    {
     "data": {
      "text/html": [
       "<div>\n",
       "<style scoped>\n",
       "    .dataframe tbody tr th:only-of-type {\n",
       "        vertical-align: middle;\n",
       "    }\n",
       "\n",
       "    .dataframe tbody tr th {\n",
       "        vertical-align: top;\n",
       "    }\n",
       "\n",
       "    .dataframe thead th {\n",
       "        text-align: right;\n",
       "    }\n",
       "</style>\n",
       "<table border=\"1\" class=\"dataframe\">\n",
       "  <thead>\n",
       "    <tr style=\"text-align: right;\">\n",
       "      <th></th>\n",
       "      <th>Country</th>\n",
       "      <th>share</th>\n",
       "    </tr>\n",
       "  </thead>\n",
       "  <tbody>\n",
       "    <tr>\n",
       "      <td>165</td>\n",
       "      <td>United States</td>\n",
       "      <td>20.748858</td>\n",
       "    </tr>\n",
       "    <tr>\n",
       "      <td>66</td>\n",
       "      <td>India</td>\n",
       "      <td>10.710683</td>\n",
       "    </tr>\n",
       "    <tr>\n",
       "      <td>55</td>\n",
       "      <td>Germany</td>\n",
       "      <td>6.608383</td>\n",
       "    </tr>\n",
       "    <tr>\n",
       "      <td>163</td>\n",
       "      <td>United Kingdom</td>\n",
       "      <td>6.475859</td>\n",
       "    </tr>\n",
       "    <tr>\n",
       "      <td>29</td>\n",
       "      <td>Canada</td>\n",
       "      <td>3.613743</td>\n",
       "    </tr>\n",
       "    <tr>\n",
       "      <td>52</td>\n",
       "      <td>France</td>\n",
       "      <td>3.073758</td>\n",
       "    </tr>\n",
       "    <tr>\n",
       "      <td>23</td>\n",
       "      <td>Brazil</td>\n",
       "      <td>2.870028</td>\n",
       "    </tr>\n",
       "    <tr>\n",
       "      <td>107</td>\n",
       "      <td>Netherlands</td>\n",
       "      <td>2.248947</td>\n",
       "    </tr>\n",
       "    <tr>\n",
       "      <td>121</td>\n",
       "      <td>Poland</td>\n",
       "      <td>2.144115</td>\n",
       "    </tr>\n",
       "    <tr>\n",
       "      <td>8</td>\n",
       "      <td>Australia</td>\n",
       "      <td>2.031371</td>\n",
       "    </tr>\n",
       "  </tbody>\n",
       "</table>\n",
       "</div>"
      ],
      "text/plain": [
       "            Country      share\n",
       "165   United States  20.748858\n",
       "66            India  10.710683\n",
       "55          Germany   6.608383\n",
       "163  United Kingdom   6.475859\n",
       "29           Canada   3.613743\n",
       "52           France   3.073758\n",
       "23           Brazil   2.870028\n",
       "107     Netherlands   2.248947\n",
       "121          Poland   2.144115\n",
       "8         Australia   2.031371"
      ]
     },
     "execution_count": 14,
     "metadata": {},
     "output_type": "execute_result"
    }
   ],
   "source": [
    "# Share by country - top 10\n",
    "(df_gen.groupby('Country')['Respondent'].count()/(df_gen.shape[0])*100).\\\n",
    "reset_index(name='share').sort_values(by = ['share'], ascending = False).head(10)"
   ]
  },
  {
   "cell_type": "code",
   "execution_count": 15,
   "metadata": {},
   "outputs": [
    {
     "data": {
      "text/html": [
       "<div>\n",
       "<style scoped>\n",
       "    .dataframe tbody tr th:only-of-type {\n",
       "        vertical-align: middle;\n",
       "    }\n",
       "\n",
       "    .dataframe tbody tr th {\n",
       "        vertical-align: top;\n",
       "    }\n",
       "\n",
       "    .dataframe thead th {\n",
       "        text-align: right;\n",
       "    }\n",
       "</style>\n",
       "<table border=\"1\" class=\"dataframe\">\n",
       "  <thead>\n",
       "    <tr style=\"text-align: right;\">\n",
       "      <th></th>\n",
       "      <th>Country</th>\n",
       "      <th>share</th>\n",
       "    </tr>\n",
       "  </thead>\n",
       "  <tbody>\n",
       "    <tr>\n",
       "      <td>164</td>\n",
       "      <td>United States</td>\n",
       "      <td>18.149811</td>\n",
       "    </tr>\n",
       "    <tr>\n",
       "      <td>65</td>\n",
       "      <td>India</td>\n",
       "      <td>9.893783</td>\n",
       "    </tr>\n",
       "    <tr>\n",
       "      <td>54</td>\n",
       "      <td>Germany</td>\n",
       "      <td>6.145539</td>\n",
       "    </tr>\n",
       "    <tr>\n",
       "      <td>162</td>\n",
       "      <td>United Kingdom</td>\n",
       "      <td>5.736100</td>\n",
       "    </tr>\n",
       "    <tr>\n",
       "      <td>28</td>\n",
       "      <td>Canada</td>\n",
       "      <td>3.192436</td>\n",
       "    </tr>\n",
       "    <tr>\n",
       "      <td>51</td>\n",
       "      <td>France</td>\n",
       "      <td>2.810689</td>\n",
       "    </tr>\n",
       "    <tr>\n",
       "      <td>22</td>\n",
       "      <td>Brazil</td>\n",
       "      <td>2.693989</td>\n",
       "    </tr>\n",
       "    <tr>\n",
       "      <td>106</td>\n",
       "      <td>Netherlands</td>\n",
       "      <td>2.049172</td>\n",
       "    </tr>\n",
       "    <tr>\n",
       "      <td>120</td>\n",
       "      <td>Poland</td>\n",
       "      <td>2.035326</td>\n",
       "    </tr>\n",
       "    <tr>\n",
       "      <td>7</td>\n",
       "      <td>Australia</td>\n",
       "      <td>1.807860</td>\n",
       "    </tr>\n",
       "  </tbody>\n",
       "</table>\n",
       "</div>"
      ],
      "text/plain": [
       "            Country      share\n",
       "164   United States  18.149811\n",
       "65            India   9.893783\n",
       "54          Germany   6.145539\n",
       "162  United Kingdom   5.736100\n",
       "28           Canada   3.192436\n",
       "51           France   2.810689\n",
       "22           Brazil   2.693989\n",
       "106     Netherlands   2.049172\n",
       "120          Poland   2.035326\n",
       "7         Australia   1.807860"
      ]
     },
     "execution_count": 15,
     "metadata": {},
     "output_type": "execute_result"
    }
   ],
   "source": [
    "# Men share by country - top 10\n",
    "(df_gen[df_gen['Gen3']=='Man'].groupby('Country')['Respondent'].count()/(df_gen.shape[0])*100).\\\n",
    "reset_index(name='share').sort_values(by = ['share'], ascending = False).head(10)"
   ]
  },
  {
   "cell_type": "code",
   "execution_count": 16,
   "metadata": {},
   "outputs": [
    {
     "data": {
      "text/html": [
       "<div>\n",
       "<style scoped>\n",
       "    .dataframe tbody tr th:only-of-type {\n",
       "        vertical-align: middle;\n",
       "    }\n",
       "\n",
       "    .dataframe tbody tr th {\n",
       "        vertical-align: top;\n",
       "    }\n",
       "\n",
       "    .dataframe thead th {\n",
       "        text-align: right;\n",
       "    }\n",
       "</style>\n",
       "<table border=\"1\" class=\"dataframe\">\n",
       "  <thead>\n",
       "    <tr style=\"text-align: right;\">\n",
       "      <th></th>\n",
       "      <th>Country</th>\n",
       "      <th>share</th>\n",
       "    </tr>\n",
       "  </thead>\n",
       "  <tbody>\n",
       "    <tr>\n",
       "      <td>114</td>\n",
       "      <td>United States</td>\n",
       "      <td>2.148070</td>\n",
       "    </tr>\n",
       "    <tr>\n",
       "      <td>42</td>\n",
       "      <td>India</td>\n",
       "      <td>0.731847</td>\n",
       "    </tr>\n",
       "    <tr>\n",
       "      <td>112</td>\n",
       "      <td>United Kingdom</td>\n",
       "      <td>0.644817</td>\n",
       "    </tr>\n",
       "    <tr>\n",
       "      <td>35</td>\n",
       "      <td>Germany</td>\n",
       "      <td>0.375813</td>\n",
       "    </tr>\n",
       "    <tr>\n",
       "      <td>19</td>\n",
       "      <td>Canada</td>\n",
       "      <td>0.348122</td>\n",
       "    </tr>\n",
       "    <tr>\n",
       "      <td>33</td>\n",
       "      <td>France</td>\n",
       "      <td>0.209664</td>\n",
       "    </tr>\n",
       "    <tr>\n",
       "      <td>6</td>\n",
       "      <td>Australia</td>\n",
       "      <td>0.179995</td>\n",
       "    </tr>\n",
       "    <tr>\n",
       "      <td>69</td>\n",
       "      <td>Netherlands</td>\n",
       "      <td>0.170105</td>\n",
       "    </tr>\n",
       "    <tr>\n",
       "      <td>16</td>\n",
       "      <td>Brazil</td>\n",
       "      <td>0.152303</td>\n",
       "    </tr>\n",
       "    <tr>\n",
       "      <td>85</td>\n",
       "      <td>Romania</td>\n",
       "      <td>0.140436</td>\n",
       "    </tr>\n",
       "  </tbody>\n",
       "</table>\n",
       "</div>"
      ],
      "text/plain": [
       "            Country     share\n",
       "114   United States  2.148070\n",
       "42            India  0.731847\n",
       "112  United Kingdom  0.644817\n",
       "35          Germany  0.375813\n",
       "19           Canada  0.348122\n",
       "33           France  0.209664\n",
       "6         Australia  0.179995\n",
       "69      Netherlands  0.170105\n",
       "16           Brazil  0.152303\n",
       "85          Romania  0.140436"
      ]
     },
     "execution_count": 16,
     "metadata": {},
     "output_type": "execute_result"
    }
   ],
   "source": [
    "# Women share by country - top 10\n",
    "(df_gen[df_gen['Gen3']=='Woman'].groupby('Country')['Respondent'].count()/(df_gen.shape[0])*100).\\\n",
    "reset_index(name='share').sort_values(by = ['share'], ascending = False).head(10)"
   ]
  },
  {
   "cell_type": "code",
   "execution_count": 17,
   "metadata": {},
   "outputs": [
    {
     "data": {
      "text/html": [
       "<div>\n",
       "<style scoped>\n",
       "    .dataframe tbody tr th:only-of-type {\n",
       "        vertical-align: middle;\n",
       "    }\n",
       "\n",
       "    .dataframe tbody tr th {\n",
       "        vertical-align: top;\n",
       "    }\n",
       "\n",
       "    .dataframe thead th {\n",
       "        text-align: right;\n",
       "    }\n",
       "</style>\n",
       "<table border=\"1\" class=\"dataframe\">\n",
       "  <thead>\n",
       "    <tr style=\"text-align: right;\">\n",
       "      <th></th>\n",
       "      <th>Country</th>\n",
       "      <th>share</th>\n",
       "    </tr>\n",
       "  </thead>\n",
       "  <tbody>\n",
       "    <tr>\n",
       "      <td>77</td>\n",
       "      <td>United States</td>\n",
       "      <td>0.450976</td>\n",
       "    </tr>\n",
       "    <tr>\n",
       "      <td>76</td>\n",
       "      <td>United Kingdom</td>\n",
       "      <td>0.094942</td>\n",
       "    </tr>\n",
       "    <tr>\n",
       "      <td>25</td>\n",
       "      <td>Germany</td>\n",
       "      <td>0.087030</td>\n",
       "    </tr>\n",
       "    <tr>\n",
       "      <td>29</td>\n",
       "      <td>India</td>\n",
       "      <td>0.085053</td>\n",
       "    </tr>\n",
       "    <tr>\n",
       "      <td>13</td>\n",
       "      <td>Canada</td>\n",
       "      <td>0.073185</td>\n",
       "    </tr>\n",
       "    <tr>\n",
       "      <td>24</td>\n",
       "      <td>France</td>\n",
       "      <td>0.053405</td>\n",
       "    </tr>\n",
       "    <tr>\n",
       "      <td>4</td>\n",
       "      <td>Australia</td>\n",
       "      <td>0.043515</td>\n",
       "    </tr>\n",
       "    <tr>\n",
       "      <td>69</td>\n",
       "      <td>Sweden</td>\n",
       "      <td>0.029669</td>\n",
       "    </tr>\n",
       "    <tr>\n",
       "      <td>47</td>\n",
       "      <td>Netherlands</td>\n",
       "      <td>0.029669</td>\n",
       "    </tr>\n",
       "    <tr>\n",
       "      <td>7</td>\n",
       "      <td>Bangladesh</td>\n",
       "      <td>0.025714</td>\n",
       "    </tr>\n",
       "  </tbody>\n",
       "</table>\n",
       "</div>"
      ],
      "text/plain": [
       "           Country     share\n",
       "77   United States  0.450976\n",
       "76  United Kingdom  0.094942\n",
       "25         Germany  0.087030\n",
       "29           India  0.085053\n",
       "13          Canada  0.073185\n",
       "24          France  0.053405\n",
       "4        Australia  0.043515\n",
       "69          Sweden  0.029669\n",
       "47     Netherlands  0.029669\n",
       "7       Bangladesh  0.025714"
      ]
     },
     "execution_count": 17,
     "metadata": {},
     "output_type": "execute_result"
    }
   ],
   "source": [
    "# Other Gender IDs share by country - top 10\n",
    "(df_gen[df_gen['Gen3']=='Another Gender ID'].groupby('Country')['Respondent'].count()/(df_gen.shape[0])*100).\\\n",
    "reset_index(name='share').sort_values(by = ['share'], ascending = False).head(10)"
   ]
  },
  {
   "cell_type": "code",
   "execution_count": 18,
   "metadata": {},
   "outputs": [
    {
     "data": {
      "text/plain": [
       "Index(['United States', 'India', 'Germany', 'United Kingdom', 'Canada',\n",
       "       'France', 'Brazil', 'Netherlands', 'Poland', 'Australia', 'Spain',\n",
       "       'Italy', 'Russian Federation', 'Sweden', 'Turkey', 'Pakistan', 'Israel',\n",
       "       'Switzerland', 'Romania', 'Austria'],\n",
       "      dtype='object')"
      ]
     },
     "execution_count": 18,
     "metadata": {},
     "output_type": "execute_result"
    }
   ],
   "source": [
    "# Top 20 countries\n",
    "df_gen['Country'].value_counts().index[:20]"
   ]
  },
  {
   "cell_type": "code",
   "execution_count": 19,
   "metadata": {},
   "outputs": [],
   "source": [
    "# create a df of top 20 countries\n",
    "top_ctry = list(df_gen['Country'].value_counts().index[:20])\n",
    "df_top_ctry = df_gen[df_gen['Country'].isin(top_ctry)]"
   ]
  },
  {
   "cell_type": "code",
   "execution_count": 20,
   "metadata": {},
   "outputs": [
    {
     "data": {
      "text/html": [
       "<div>\n",
       "<style scoped>\n",
       "    .dataframe tbody tr th:only-of-type {\n",
       "        vertical-align: middle;\n",
       "    }\n",
       "\n",
       "    .dataframe tbody tr th {\n",
       "        vertical-align: top;\n",
       "    }\n",
       "\n",
       "    .dataframe thead th {\n",
       "        text-align: right;\n",
       "    }\n",
       "</style>\n",
       "<table border=\"1\" class=\"dataframe\">\n",
       "  <thead>\n",
       "    <tr style=\"text-align: right;\">\n",
       "      <th></th>\n",
       "      <th>Respondent</th>\n",
       "      <th>MainBranch</th>\n",
       "      <th>Hobbyist</th>\n",
       "      <th>Age</th>\n",
       "      <th>Age1stCode</th>\n",
       "      <th>CompFreq</th>\n",
       "      <th>CompTotal</th>\n",
       "      <th>ConvertedComp</th>\n",
       "      <th>Country</th>\n",
       "      <th>CurrencyDesc</th>\n",
       "      <th>...</th>\n",
       "      <th>SurveyLength</th>\n",
       "      <th>Trans</th>\n",
       "      <th>UndergradMajor</th>\n",
       "      <th>WebframeDesireNextYear</th>\n",
       "      <th>WebframeWorkedWith</th>\n",
       "      <th>WelcomeChange</th>\n",
       "      <th>WorkWeekHrs</th>\n",
       "      <th>YearsCode</th>\n",
       "      <th>YearsCodePro</th>\n",
       "      <th>Gen3</th>\n",
       "    </tr>\n",
       "  </thead>\n",
       "  <tbody>\n",
       "    <tr>\n",
       "      <td>0</td>\n",
       "      <td>1</td>\n",
       "      <td>I am a developer by profession</td>\n",
       "      <td>Yes</td>\n",
       "      <td>NaN</td>\n",
       "      <td>13</td>\n",
       "      <td>Monthly</td>\n",
       "      <td>NaN</td>\n",
       "      <td>NaN</td>\n",
       "      <td>Germany</td>\n",
       "      <td>European Euro</td>\n",
       "      <td>...</td>\n",
       "      <td>Appropriate in length</td>\n",
       "      <td>No</td>\n",
       "      <td>Computer science, computer engineering, or sof...</td>\n",
       "      <td>ASP.NET Core</td>\n",
       "      <td>ASP.NET;ASP.NET Core</td>\n",
       "      <td>Just as welcome now as I felt last year</td>\n",
       "      <td>50.0</td>\n",
       "      <td>36</td>\n",
       "      <td>27</td>\n",
       "      <td>Man</td>\n",
       "    </tr>\n",
       "    <tr>\n",
       "      <td>4</td>\n",
       "      <td>5</td>\n",
       "      <td>I used to be a developer by profession, but no...</td>\n",
       "      <td>Yes</td>\n",
       "      <td>31.0</td>\n",
       "      <td>16</td>\n",
       "      <td>NaN</td>\n",
       "      <td>NaN</td>\n",
       "      <td>NaN</td>\n",
       "      <td>United States</td>\n",
       "      <td>NaN</td>\n",
       "      <td>...</td>\n",
       "      <td>Too short</td>\n",
       "      <td>No</td>\n",
       "      <td>Computer science, computer engineering, or sof...</td>\n",
       "      <td>Django;Ruby on Rails</td>\n",
       "      <td>Ruby on Rails</td>\n",
       "      <td>Just as welcome now as I felt last year</td>\n",
       "      <td>NaN</td>\n",
       "      <td>15</td>\n",
       "      <td>8</td>\n",
       "      <td>Man</td>\n",
       "    </tr>\n",
       "    <tr>\n",
       "      <td>5</td>\n",
       "      <td>6</td>\n",
       "      <td>I am a developer by profession</td>\n",
       "      <td>No</td>\n",
       "      <td>NaN</td>\n",
       "      <td>14</td>\n",
       "      <td>NaN</td>\n",
       "      <td>NaN</td>\n",
       "      <td>NaN</td>\n",
       "      <td>Germany</td>\n",
       "      <td>European Euro</td>\n",
       "      <td>...</td>\n",
       "      <td>Appropriate in length</td>\n",
       "      <td>NaN</td>\n",
       "      <td>NaN</td>\n",
       "      <td>React.js</td>\n",
       "      <td>NaN</td>\n",
       "      <td>NaN</td>\n",
       "      <td>NaN</td>\n",
       "      <td>6</td>\n",
       "      <td>4</td>\n",
       "      <td>Man</td>\n",
       "    </tr>\n",
       "    <tr>\n",
       "      <td>7</td>\n",
       "      <td>8</td>\n",
       "      <td>I am a developer by profession</td>\n",
       "      <td>Yes</td>\n",
       "      <td>36.0</td>\n",
       "      <td>12</td>\n",
       "      <td>Yearly</td>\n",
       "      <td>116000.0</td>\n",
       "      <td>116000.0</td>\n",
       "      <td>United States</td>\n",
       "      <td>United States dollar</td>\n",
       "      <td>...</td>\n",
       "      <td>Appropriate in length</td>\n",
       "      <td>No</td>\n",
       "      <td>Computer science, computer engineering, or sof...</td>\n",
       "      <td>Django;React.js;Vue.js</td>\n",
       "      <td>Flask</td>\n",
       "      <td>Just as welcome now as I felt last year</td>\n",
       "      <td>39.0</td>\n",
       "      <td>17</td>\n",
       "      <td>13</td>\n",
       "      <td>Man</td>\n",
       "    </tr>\n",
       "    <tr>\n",
       "      <td>9</td>\n",
       "      <td>10</td>\n",
       "      <td>I am a developer by profession</td>\n",
       "      <td>Yes</td>\n",
       "      <td>22.0</td>\n",
       "      <td>14</td>\n",
       "      <td>Yearly</td>\n",
       "      <td>25000.0</td>\n",
       "      <td>32315.0</td>\n",
       "      <td>United Kingdom</td>\n",
       "      <td>Pound sterling</td>\n",
       "      <td>...</td>\n",
       "      <td>Appropriate in length</td>\n",
       "      <td>No</td>\n",
       "      <td>Mathematics or statistics</td>\n",
       "      <td>Flask;jQuery</td>\n",
       "      <td>Flask;jQuery</td>\n",
       "      <td>Somewhat more welcome now than last year</td>\n",
       "      <td>36.0</td>\n",
       "      <td>8</td>\n",
       "      <td>4</td>\n",
       "      <td>Man</td>\n",
       "    </tr>\n",
       "  </tbody>\n",
       "</table>\n",
       "<p>5 rows × 62 columns</p>\n",
       "</div>"
      ],
      "text/plain": [
       "   Respondent                                         MainBranch Hobbyist  \\\n",
       "0           1                     I am a developer by profession      Yes   \n",
       "4           5  I used to be a developer by profession, but no...      Yes   \n",
       "5           6                     I am a developer by profession       No   \n",
       "7           8                     I am a developer by profession      Yes   \n",
       "9          10                     I am a developer by profession      Yes   \n",
       "\n",
       "    Age Age1stCode CompFreq  CompTotal  ConvertedComp         Country  \\\n",
       "0   NaN         13  Monthly        NaN            NaN         Germany   \n",
       "4  31.0         16      NaN        NaN            NaN   United States   \n",
       "5   NaN         14      NaN        NaN            NaN         Germany   \n",
       "7  36.0         12   Yearly   116000.0       116000.0   United States   \n",
       "9  22.0         14   Yearly    25000.0        32315.0  United Kingdom   \n",
       "\n",
       "           CurrencyDesc  ...           SurveyLength Trans  \\\n",
       "0         European Euro  ...  Appropriate in length    No   \n",
       "4                   NaN  ...              Too short    No   \n",
       "5         European Euro  ...  Appropriate in length   NaN   \n",
       "7  United States dollar  ...  Appropriate in length    No   \n",
       "9        Pound sterling  ...  Appropriate in length    No   \n",
       "\n",
       "                                      UndergradMajor  WebframeDesireNextYear  \\\n",
       "0  Computer science, computer engineering, or sof...            ASP.NET Core   \n",
       "4  Computer science, computer engineering, or sof...    Django;Ruby on Rails   \n",
       "5                                                NaN                React.js   \n",
       "7  Computer science, computer engineering, or sof...  Django;React.js;Vue.js   \n",
       "9                          Mathematics or statistics            Flask;jQuery   \n",
       "\n",
       "     WebframeWorkedWith                             WelcomeChange WorkWeekHrs  \\\n",
       "0  ASP.NET;ASP.NET Core   Just as welcome now as I felt last year        50.0   \n",
       "4         Ruby on Rails   Just as welcome now as I felt last year         NaN   \n",
       "5                   NaN                                       NaN         NaN   \n",
       "7                 Flask   Just as welcome now as I felt last year        39.0   \n",
       "9          Flask;jQuery  Somewhat more welcome now than last year        36.0   \n",
       "\n",
       "  YearsCode YearsCodePro Gen3  \n",
       "0        36           27  Man  \n",
       "4        15            8  Man  \n",
       "5         6            4  Man  \n",
       "7        17           13  Man  \n",
       "9         8            4  Man  \n",
       "\n",
       "[5 rows x 62 columns]"
      ]
     },
     "execution_count": 20,
     "metadata": {},
     "output_type": "execute_result"
    }
   ],
   "source": [
    "df_top_ctry.head()"
   ]
  },
  {
   "cell_type": "code",
   "execution_count": 21,
   "metadata": {},
   "outputs": [
    {
     "data": {
      "image/png": "[encoded data removed]",
      "text/plain": [
       "<Figure size 1800x1584 with 2 Axes>"
      ]
     },
     "metadata": {
      "needs_background": "light"
     },
     "output_type": "display_data"
    }
   ],
   "source": [
    "ctry_counts=df_top_ctry['Country'].value_counts()\n",
    "\n",
    "base_color = sns.color_palette()[0]\n",
    "\n",
    "plt.figure(figsize=(25, 22))\n",
    "\n",
    "# plotcount by country\n",
    "plt.subplot(1, 2, 1)\n",
    "sns.countplot(data=df_top_ctry, y='Country', color=base_color, orient='h', order=top_ctry)\n",
    "plt.title('StackOverflow Survey 2020\\nRespondents share by Country')\n",
    "plt.xlabel('Respondents Count')\n",
    "plt.ylabel('Top 20 Countries')\n",
    "\n",
    "# add % value to the countplot\n",
    "for i in range(len(top_ctry)):\n",
    "    count = ctry_counts[i]\n",
    "    pct_string = '{:0.1f}%'.format(100*count/df_top_ctry.shape[0])\n",
    "    plt.text(count+3, i, pct_string, va='center')\n",
    "\n",
    "# plotcount by gender\n",
    "plt.subplot(1, 2, 2)\n",
    "sns.countplot(data=df_top_ctry, y='Country', hue='Gen3', palette='Blues', orient='h', order=top_ctry)\n",
    "plt.title('StackOverflow Survey 2020\\nRespondents share by Country & Gender')\n",
    "plt.xlabel('Respondents Count')\n",
    "plt.ylabel('')\n",
    "plt.legend(loc='lower right')\n",
    "\n",
    "# add % value to the countplot\n",
    "genders_shr = df_top_ctry.groupby(['Country', 'Gen3'])['Respondent'].count()/df_top_ctry.groupby(['Country'])['Respondent'].count()\n",
    "genders_cnt = df_top_ctry.groupby(['Country', 'Gen3'])['Respondent'].count()\n",
    "genders = ['Man', 'Woman', 'Another Gender ID']\n",
    "adj_hight = [-0.2, 0.1, 0.3]\n",
    "\n",
    "for i in range(genders_shr.shape[0]):\n",
    "    gender = genders[i%3]\n",
    "    ctry = top_ctry[int(i/3)]\n",
    "    gen_cnt = genders_cnt[ctry][gender]\n",
    "    pct_string = '{:0.1f}%'.format(genders_shr[ctry][gender]*100)\n",
    "    plt.text(gen_cnt+3, int(i/3)+adj_hight[i%3] , pct_string);"
   ]
  },
  {
   "cell_type": "markdown",
   "metadata": {},
   "source": [
    "It is not surprising to see the quantitative male dominance in the field, however it is interesting to look at the ratios of the other two genders per country. It was unpredictable that the highest (14.1%) would be help by woman in Romania.<br>\n",
    "Other countries with two digits non-male ratios are Israel, United States and United Kingdom with 10.6%, 10.4% and 10% women ratios respectively.<br>\n",
    "Another Gender ID group reached or passed the 2% bar in United States, Australia, Canada and Sweden.<br>\n",
    "Below 6% women ratio we can find Spain, Germany, Brazil, Poland, Switzerland, Sweden, and Italy (In descending order), while above it we can find Canada, Australia, Netherlands, Russia, Turkey, France, India, Austria and Pakistan."
   ]
  },
  {
   "cell_type": "markdown",
   "metadata": {},
   "source": [
    "### Question 2\n",
    "#### Income by Gender\n",
    "##### How does the income distribution vary by gender ?\n",
    "The following section investigates income distribution by gender."
   ]
  },
  {
   "cell_type": "code",
   "execution_count": 22,
   "metadata": {},
   "outputs": [
    {
     "data": {
      "text/plain": [
       "['Salary converted to annual USD salaries using the exchange rate on 2020-02-19, assuming 12 working months and 50 working weeks.']"
      ]
     },
     "execution_count": 22,
     "metadata": {},
     "output_type": "execute_result"
    }
   ],
   "source": [
    "# Display Income field ConvertedComp question\n",
    "list(df_schema[df_schema['Column']=='ConvertedComp']['QuestionText'])"
   ]
  },
  {
   "cell_type": "code",
   "execution_count": 23,
   "metadata": {},
   "outputs": [
    {
     "data": {
      "text/plain": [
       "['What is your current total compensation (salary, bonuses, and perks, before taxes and deductions), in `CurrencySymbol`? Please enter a whole number in the box below, without any punctuation. If you are paid hourly, please estimate an equivalent weekly, monthly, or yearly salary. If you prefer not to answer, please leave the box empty.']"
      ]
     },
     "execution_count": 23,
     "metadata": {},
     "output_type": "execute_result"
    }
   ],
   "source": [
    "# Display Income field ConvertedComp question\n",
    "list(df_schema[df_schema['Column']=='CompTotal']['QuestionText'])"
   ]
  },
  {
   "cell_type": "code",
   "execution_count": 24,
   "metadata": {},
   "outputs": [
    {
     "data": {
      "text/plain": [
       "18430"
      ]
     },
     "execution_count": 24,
     "metadata": {},
     "output_type": "execute_result"
    }
   ],
   "source": [
    "# Undisclosed income\n",
    "df_gen['ConvertedComp'].isna().sum()"
   ]
  },
  {
   "cell_type": "code",
   "execution_count": 25,
   "metadata": {},
   "outputs": [],
   "source": [
    "# create dataframes per genders with income data\n",
    "df_income = df_gen.dropna(subset=['ConvertedComp'], axis=0)\n",
    "df_income_m = df_income[df_income['Gender'] == 'Man']\n",
    "df_income_w = df_income[df_income['Gender'] == 'Woman']\n",
    "df_income_o = df_income[~df_income['Gender'].isin(['Man', 'Woman'])]"
   ]
  },
  {
   "cell_type": "code",
   "execution_count": 26,
   "metadata": {},
   "outputs": [
    {
     "name": "stdout",
     "output_type": "stream",
     "text": [
      "All: (32127, 62) 100.0%\n",
      "Men: (29437, 62) 91.6%\n",
      "Women: (2274, 62) 7.1%\n",
      "Another Gender ID: (416, 62) 1.3%\n"
     ]
    }
   ],
   "source": [
    "# Share of respondents with income data by gender\n",
    "print('All:', df_income.shape, '{:0.1f}%'.format(df_income.shape[0]/df_income.shape[0]*100))\n",
    "print('Men:', df_income_m.shape, '{:0.1f}%'.format(df_income_m.shape[0]/df_income.shape[0]*100))\n",
    "print('Women:', df_income_w.shape, '{:0.1f}%'.format(df_income_w.shape[0]/df_income.shape[0]*100))\n",
    "print('Another Gender ID:', df_income_o.shape, '{:0.1f}%'.format(df_income_o.shape[0]/df_income.shape[0]*100))"
   ]
  },
  {
   "cell_type": "code",
   "execution_count": 27,
   "metadata": {},
   "outputs": [
    {
     "data": {
      "image/png": "[encoded data removed]",
      "text/plain": [
       "<Figure size 1800x1440 with 6 Axes>"
      ]
     },
     "metadata": {
      "needs_background": "light"
     },
     "output_type": "display_data"
    }
   ],
   "source": [
    "plt.figure(figsize=(25,20))\n",
    "plt.suptitle('StackOverflow Survey 2020\\nYearly Income Distribution by Gender', size=20)\n",
    "\n",
    "# hist men income\n",
    "\n",
    "plt.subplot(3, 2, 1)\n",
    "plt.hist(data=df_income_m, x='ConvertedComp', bins=200)\n",
    "plt.xlabel('Men Yearly Income in $')\n",
    "plt.ylabel('Respondents Count')\n",
    "plt.xlim(0, 500000)\n",
    "\n",
    "plt.subplot(3, 2, 2)\n",
    "plt.hist(data=df_income_m, x='ConvertedComp', bins=400)\n",
    "plt.xlabel('Men Yearly Income up to 250K $')\n",
    "plt.xlim(0, 250000)\n",
    "\n",
    "# hist women income\n",
    "\n",
    "plt.subplot(3, 2, 3)\n",
    "plt.hist(data=df_income_w, x='ConvertedComp', bins=200)\n",
    "plt.xlabel('Women Yearly Income in $')\n",
    "plt.ylabel('Respondents Count')\n",
    "plt.xlim(0, 500000)\n",
    "\n",
    "plt.subplot(3, 2, 4)\n",
    "plt.hist(data=df_income_w, x='ConvertedComp', bins=400)\n",
    "plt.xlabel('Women Yearly Income up to 250K $')\n",
    "plt.xlim(0, 250000)\n",
    "\n",
    "# hist another gender ID income\n",
    "\n",
    "plt.subplot(3, 2, 5)\n",
    "plt.hist(data=df_income_o, x='ConvertedComp', bins=200)\n",
    "plt.xlabel('Another Genders ID Yearly Income in $')\n",
    "plt.ylabel('Respondents Count')\n",
    "plt.xlim(0, 500000)\n",
    "\n",
    "plt.subplot(3, 2, 6)\n",
    "plt.hist(data=df_income_o, x='ConvertedComp', bins=400)\n",
    "plt.xlabel('Another Genders ID Yearly Income up to 250K $')\n",
    "plt.xlim(0, 250000);"
   ]
  },
  {
   "cell_type": "code",
   "execution_count": 28,
   "metadata": {},
   "outputs": [
    {
     "data": {
      "image/png": "[encoded data removed]",
      "text/plain": [
       "<Figure size 432x864 with 3 Axes>"
      ]
     },
     "metadata": {
      "needs_background": "light"
     },
     "output_type": "display_data"
    }
   ],
   "source": [
    "# get only the 3 zoom-in geaphs for the post\n",
    "plt.figure(figsize=(6,12))\n",
    "plt.suptitle('StackOverflow Survey 2020\\nYearly Income Distribution by Gender', size=12, y=0.95)\n",
    "\n",
    "# hist men income\n",
    "plt.subplot(3, 1, 1)\n",
    "plt.hist(data=df_income_m, x='ConvertedComp', bins=400)\n",
    "plt.xlabel('Men Yearly Income up to 250K $')\n",
    "plt.xlim(0, 250000)\n",
    "\n",
    "# hist women income\n",
    "plt.subplot(3, 1, 2)\n",
    "plt.hist(data=df_income_w, x='ConvertedComp', bins=400)\n",
    "plt.xlabel('Women Yearly Income up to 250K $')\n",
    "plt.xlim(0, 250000)\n",
    "\n",
    "# hist another gender ID income\n",
    "plt.subplot(3, 1, 3)\n",
    "plt.hist(data=df_income_o, x='ConvertedComp', bins=400)\n",
    "plt.xlabel('Another Genders ID Yearly Income up to 250K $')\n",
    "plt.xlim(0, 250000);"
   ]
  },
  {
   "cell_type": "code",
   "execution_count": 29,
   "metadata": {},
   "outputs": [
    {
     "data": {
      "text/plain": [
       "count      29437.00\n",
       "mean      103615.91\n",
       "std       225780.02\n",
       "min            0.00\n",
       "25%        25164.00\n",
       "50%        54049.00\n",
       "75%        95000.00\n",
       "max      2000000.00\n",
       "Name: ConvertedComp, dtype: object"
      ]
     },
     "execution_count": 29,
     "metadata": {},
     "output_type": "execute_result"
    }
   ],
   "source": [
    "# Men income stat\n",
    "df_income_m['ConvertedComp'].describe().apply(lambda x: format(x, '.2f'))"
   ]
  },
  {
   "cell_type": "code",
   "execution_count": 30,
   "metadata": {},
   "outputs": [
    {
     "data": {
      "text/plain": [
       "count       2274.00\n",
       "mean       98300.48\n",
       "std       213911.00\n",
       "min            0.00\n",
       "25%        27612.00\n",
       "50%        54632.00\n",
       "75%        92601.50\n",
       "max      2000000.00\n",
       "Name: ConvertedComp, dtype: object"
      ]
     },
     "execution_count": 30,
     "metadata": {},
     "output_type": "execute_result"
    }
   ],
   "source": [
    "# Woen income stat\n",
    "df_income_w['ConvertedComp'].describe().apply(lambda x: format(x, '.2f'))"
   ]
  },
  {
   "cell_type": "code",
   "execution_count": 31,
   "metadata": {},
   "outputs": [
    {
     "data": {
      "text/plain": [
       "count        416.00\n",
       "mean      107977.58\n",
       "std       187682.62\n",
       "min            0.00\n",
       "25%        35479.00\n",
       "50%        64744.50\n",
       "75%       110000.00\n",
       "max      2000000.00\n",
       "Name: ConvertedComp, dtype: object"
      ]
     },
     "execution_count": 31,
     "metadata": {},
     "output_type": "execute_result"
    }
   ],
   "source": [
    "# Another Gender ID income stat\n",
    "df_income_o['ConvertedComp'].describe().apply(lambda x: format(x, '.2f'))"
   ]
  },
  {
   "cell_type": "code",
   "execution_count": 32,
   "metadata": {},
   "outputs": [
    {
     "name": "stdout",
     "output_type": "stream",
     "text": [
      "Men .85 quartile: 129259.00\n",
      "Women .85 quartile: 122791.00\n",
      "Another Gender ID .85 quartile: 144600.00\n"
     ]
    }
   ],
   "source": [
    "# display .85 quartile by gender\n",
    "print('Men .85 quartile:', format(df_income_m['ConvertedComp'].quantile(q=0.85), '.2f'))\n",
    "print('Women .85 quartile:', format(df_income_w['ConvertedComp'].quantile(q=0.85), '.2f'))\n",
    "print('Another Gender ID .85 quartile:', format(df_income_o['ConvertedComp'].quantile(q=0.85), '.2f'))"
   ]
  },
  {
   "cell_type": "code",
   "execution_count": 33,
   "metadata": {},
   "outputs": [
    {
     "name": "stdout",
     "output_type": "stream",
     "text": [
      "Men .95 quartile: 129259.00\n",
      "Women .95 quartile: 122791.00\n",
      "Another Genders .95 quartile: 144600.00\n"
     ]
    }
   ],
   "source": [
    "# display .95 quartile by gender\n",
    "print('Men .95 quartile:', format(df_income_m['ConvertedComp'].quantile(q=0.85), '.2f'))\n",
    "print('Women .95 quartile:', format(df_income_w['ConvertedComp'].quantile(q=0.85), '.2f'))\n",
    "print('Another Genders .95 quartile:', format(df_income_o['ConvertedComp'].quantile(q=0.85), '.2f'))"
   ]
  },
  {
   "cell_type": "code",
   "execution_count": 34,
   "metadata": {
    "scrolled": true
   },
   "outputs": [
    {
     "data": {
      "text/html": [
       "<div>\n",
       "<style scoped>\n",
       "    .dataframe tbody tr th:only-of-type {\n",
       "        vertical-align: middle;\n",
       "    }\n",
       "\n",
       "    .dataframe tbody tr th {\n",
       "        vertical-align: top;\n",
       "    }\n",
       "\n",
       "    .dataframe thead th {\n",
       "        text-align: right;\n",
       "    }\n",
       "</style>\n",
       "<table border=\"1\" class=\"dataframe\">\n",
       "  <thead>\n",
       "    <tr style=\"text-align: right;\">\n",
       "      <th></th>\n",
       "      <th>Gender</th>\n",
       "      <th>mean_inc</th>\n",
       "    </tr>\n",
       "  </thead>\n",
       "  <tbody>\n",
       "    <tr>\n",
       "      <td>5</td>\n",
       "      <td>Woman;Man;Non-binary, genderqueer, or gender n...</td>\n",
       "      <td>254225.700000</td>\n",
       "    </tr>\n",
       "    <tr>\n",
       "      <td>2</td>\n",
       "      <td>Non-binary, genderqueer, or gender non-conforming</td>\n",
       "      <td>116016.975410</td>\n",
       "    </tr>\n",
       "    <tr>\n",
       "      <td>0</td>\n",
       "      <td>Man</td>\n",
       "      <td>103615.911778</td>\n",
       "    </tr>\n",
       "    <tr>\n",
       "      <td>3</td>\n",
       "      <td>Woman</td>\n",
       "      <td>98300.480651</td>\n",
       "    </tr>\n",
       "    <tr>\n",
       "      <td>6</td>\n",
       "      <td>Woman;Non-binary, genderqueer, or gender non-c...</td>\n",
       "      <td>89008.363636</td>\n",
       "    </tr>\n",
       "    <tr>\n",
       "      <td>1</td>\n",
       "      <td>Man;Non-binary, genderqueer, or gender non-con...</td>\n",
       "      <td>88912.375000</td>\n",
       "    </tr>\n",
       "    <tr>\n",
       "      <td>4</td>\n",
       "      <td>Woman;Man</td>\n",
       "      <td>76289.777778</td>\n",
       "    </tr>\n",
       "  </tbody>\n",
       "</table>\n",
       "</div>"
      ],
      "text/plain": [
       "                                              Gender       mean_inc\n",
       "5  Woman;Man;Non-binary, genderqueer, or gender n...  254225.700000\n",
       "2  Non-binary, genderqueer, or gender non-conforming  116016.975410\n",
       "0                                                Man  103615.911778\n",
       "3                                              Woman   98300.480651\n",
       "6  Woman;Non-binary, genderqueer, or gender non-c...   89008.363636\n",
       "1  Man;Non-binary, genderqueer, or gender non-con...   88912.375000\n",
       "4                                          Woman;Man   76289.777778"
      ]
     },
     "execution_count": 34,
     "metadata": {},
     "output_type": "execute_result"
    }
   ],
   "source": [
    "# All genders mean income\n",
    "df_income.groupby('Gender')['ConvertedComp'].mean().reset_index(name='mean_inc').sort_values(by=['mean_inc'], ascending = False)"
   ]
  },
  {
   "cell_type": "markdown",
   "metadata": {},
   "source": [
    "The group that consistently holds the highest average and high percentiles incomes is Another Gender ID."
   ]
  },
  {
   "cell_type": "markdown",
   "metadata": {},
   "source": [
    "### Question 3\n",
    "#### Job Satisfaction Level by Gender\n",
    "##### What are the ojb satisfaction levels by gender ?\n",
    "The following section investigates the differences in job satisfaction levels by gender."
   ]
  },
  {
   "cell_type": "code",
   "execution_count": 35,
   "metadata": {},
   "outputs": [
    {
     "data": {
      "text/plain": [
       "['How satisfied are you with your current job? (If you work multiple jobs, answer for the one you spend the most hours on.)']"
      ]
     },
     "execution_count": 35,
     "metadata": {},
     "output_type": "execute_result"
    }
   ],
   "source": [
    "# Display Job Satisfaction Question\n",
    "list(df_schema[df_schema['Column']=='JobSat']['QuestionText'])"
   ]
  },
  {
   "cell_type": "code",
   "execution_count": 36,
   "metadata": {},
   "outputs": [
    {
     "data": {
      "text/plain": [
       "10828"
      ]
     },
     "execution_count": 36,
     "metadata": {},
     "output_type": "execute_result"
    }
   ],
   "source": [
    "# JobSat with NaN value\n",
    "df_gen['JobSat'].isna().sum()"
   ]
  },
  {
   "cell_type": "code",
   "execution_count": 37,
   "metadata": {},
   "outputs": [
    {
     "data": {
      "text/plain": [
       "0"
      ]
     },
     "execution_count": 37,
     "metadata": {},
     "output_type": "execute_result"
    }
   ],
   "source": [
    "# create a dataframe excluding empty JobSat\n",
    "df_sat = df_gen.dropna(subset=['JobSat'])\n",
    "df_sat['JobSat'].isna().sum()"
   ]
  },
  {
   "cell_type": "code",
   "execution_count": 38,
   "metadata": {},
   "outputs": [
    {
     "data": {
      "text/plain": [
       "Very satisfied                        12933\n",
       "Slightly satisfied                    12281\n",
       "Slightly dissatisfied                  6363\n",
       "Neither satisfied nor dissatisfied     4932\n",
       "Very dissatisfied                      3220\n",
       "Name: JobSat, dtype: int64"
      ]
     },
     "execution_count": 38,
     "metadata": {},
     "output_type": "execute_result"
    }
   ],
   "source": [
    "# check JobSat value counts\n",
    "df_sat['JobSat'].value_counts()"
   ]
  },
  {
   "cell_type": "code",
   "execution_count": 39,
   "metadata": {},
   "outputs": [
    {
     "data": {
      "text/plain": [
       "JobSat                              Gen3             \n",
       "Neither satisfied nor dissatisfied  Another Gender ID       66\n",
       "                                    Man                   4545\n",
       "                                    Woman                  321\n",
       "Slightly dissatisfied               Another Gender ID       78\n",
       "                                    Man                   5809\n",
       "                                    Woman                  476\n",
       "Slightly satisfied                  Another Gender ID      123\n",
       "                                    Man                  11281\n",
       "                                    Woman                  877\n",
       "Very dissatisfied                   Another Gender ID       49\n",
       "                                    Man                   2957\n",
       "                                    Woman                  214\n",
       "Very satisfied                      Another Gender ID      173\n",
       "                                    Man                  11730\n",
       "                                    Woman                 1030\n",
       "Name: Respondent, dtype: int64"
      ]
     },
     "execution_count": 39,
     "metadata": {},
     "output_type": "execute_result"
    }
   ],
   "source": [
    "# JobSaz value counts by gender\n",
    "df_sat.groupby(['JobSat', 'Gen3'])['Respondent'].count()"
   ]
  },
  {
   "cell_type": "code",
   "execution_count": 40,
   "metadata": {},
   "outputs": [
    {
     "data": {
      "text/plain": [
       "JobSat                              Gen3             \n",
       "Neither satisfied nor dissatisfied  Another Gender ID    0.134969\n",
       "                                    Man                  0.125131\n",
       "                                    Woman                0.110007\n",
       "Slightly dissatisfied               Another Gender ID    0.159509\n",
       "                                    Man                  0.159931\n",
       "                                    Woman                0.163125\n",
       "Slightly satisfied                  Another Gender ID    0.251534\n",
       "                                    Man                  0.310583\n",
       "                                    Woman                0.300548\n",
       "Very dissatisfied                   Another Gender ID    0.100204\n",
       "                                    Man                  0.081411\n",
       "                                    Woman                0.073338\n",
       "Very satisfied                      Another Gender ID    0.353783\n",
       "                                    Man                  0.322945\n",
       "                                    Woman                0.352981\n",
       "Name: Respondent, dtype: float64"
      ]
     },
     "execution_count": 40,
     "metadata": {},
     "output_type": "execute_result"
    }
   ],
   "source": [
    "# share of gender per Job Satisfaction level\n",
    "df_sat.groupby(['JobSat', 'Gen3'])['Respondent'].count()/df_sat.groupby(['Gen3'])['Respondent'].count()"
   ]
  },
  {
   "cell_type": "code",
   "execution_count": 41,
   "metadata": {
    "scrolled": true
   },
   "outputs": [
    {
     "data": {
      "image/png": "[encoded data removed]",
      "text/plain": [
       "<Figure size 1152x432 with 2 Axes>"
      ]
     },
     "metadata": {
      "needs_background": "light"
     },
     "output_type": "display_data"
    }
   ],
   "source": [
    "sat_scale = ['Very dissatisfied', 'Slightly dissatisfied', 'Neither satisfied nor dissatisfied', \\\n",
    "             'Slightly satisfied', 'Very satisfied']\n",
    "\n",
    "sat_counts=df_sat['JobSat'].value_counts()\n",
    "\n",
    "base_color = sns.color_palette()[0]\n",
    "\n",
    "plt.figure(figsize=(16, 6))\n",
    "#plt.tight_layout(pad=10)\n",
    "\n",
    "# plotcount by Job Satisfaction\n",
    "\n",
    "plt.subplot(1, 2, 1)\n",
    "sns.countplot(data=df_sat, x='JobSat', color=base_color, order=sat_scale)\n",
    "plt.title('StackOverflow Survey 2020\\nJob Satisfaction')\n",
    "plt.xlabel('Job Satisfaction Grade')\n",
    "plt.xticks(rotation='vertical')\n",
    "plt.ylabel('Respondents Count')\n",
    "\n",
    "# add % value to the countplot\n",
    "for i in range(len(sat_scale)):\n",
    "    count = sat_counts[sat_scale[i]]\n",
    "    pct_string = '{:0.1f}%'.format(100*count/df_sat.shape[0])\n",
    "    plt.text(i, count+1, pct_string, ha='center', va='bottom');\n",
    "\n",
    "# plotcount by gender\n",
    "plt.subplot(1, 2, 2)\n",
    "sns.countplot(data=df_sat, x='JobSat', hue='Gen3', palette='Blues', order=sat_scale)\n",
    "plt.title('StackOverflow Survey 2020\\nJob Satisfaction by Gender\\n(%within Gender)')\n",
    "plt.xlabel('Job Satisfaction Grade')\n",
    "plt.xticks(rotation='vertical')\n",
    "plt.ylabel('')\n",
    "plt.legend(loc='upper left')\n",
    "\n",
    "# add % value to the countplot\n",
    "genders_shr = df_sat.groupby(['JobSat', 'Gen3'])['Respondent'].count()/df_sat.groupby(['Gen3'])['Respondent'].count()\n",
    "genders_cnt = df_sat.groupby(['JobSat', 'Gen3'])['Respondent'].count()\n",
    "genders = ['Man', 'Woman', 'Another Gender ID']\n",
    "adj_width = [-0.4, -0.15, 0.15]\n",
    "\n",
    "for i in range(genders_shr.shape[0]):\n",
    "    gender = genders[i%3]\n",
    "    sat = sat_scale[int(i/3)]\n",
    "    gen_cnt = genders_cnt[sat][gender]\n",
    "    pct_string = '{:0.1f}%'.format(genders_shr[sat][gender]*100)\n",
    "    plt.text(int(i/3)+adj_width[i%3], gen_cnt, pct_string, va='bottom', fontsize=8);"
   ]
  },
  {
   "cell_type": "markdown",
   "metadata": {},
   "source": [
    "Despite having the lowest average income among the genders (see question above), women are the group with the highest share of positive job satisfaction levels (slightly+very satisfied)."
   ]
  },
  {
   "cell_type": "markdown",
   "metadata": {},
   "source": [
    "#### Conclusion\n",
    "The analyzed data refers to StackOverflow users, who participated in the survey and were willing to share their information. We should be careful to refrain from making general conclusions regarding developers or the situation in the industry based on it.<br>\n",
    "With this caveat in mind, the gender ratios by countries yields a rather unexpected countries ranking.<br>\n",
    "The finding that women have the highest share of positive job satisfaction despite having the lowest average and high percentiles income, raises the question: what are the different job satisfaction predictors and how do they differ between the genders? That would be a good question for the next investigation."
   ]
  }
 ],
 "metadata": {
  "kernelspec": {
   "display_name": "Python 3",
   "language": "python",
   "name": "python3"
  },
  "language_info": {
   "codemirror_mode": {
    "name": "ipython",
    "version": 3
   },
   "file_extension": ".py",
   "mimetype": "text/x-python",
   "name": "python",
   "nbconvert_exporter": "python",
   "pygments_lexer": "ipython3",
   "version": "3.7.4"
  }
 },
 "nbformat": 4,
 "nbformat_minor": 2
}
